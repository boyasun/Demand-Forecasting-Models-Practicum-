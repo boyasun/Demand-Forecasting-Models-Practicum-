{
 "cells": [
  {
   "cell_type": "markdown",
   "metadata": {
    "colab_type": "text",
    "id": "aj8S2zW_RFYh"
   },
   "source": [
    "# Table of Contents\n",
    "<ul>\n",
    "  <li>Import Libraries</li>\n",
    "    <li>Connection</li>\n",
    "    <li>Load Data</li>\n",
    "    <li>Stationery Test</li>\n",
    "    <li>Triple Exponential Smoothing</li>\n",
    "    <li>RMSE Evaluation</li>\n",
    "    <ul>\n",
    "      <li>Aggregation Level: Product</li>\n",
    "      <li>Aggregation Level: SubCategory</li>\n",
    "      <li>Aggregation Level: Category</li>\n",
    "    </ul>\n",
    "  </li>\n",
    "  <li>RMSE Barplot</li>\n",
    "</ul>"
   ]
  },
  {
   "cell_type": "markdown",
   "metadata": {
    "colab_type": "text",
    "id": "vSGpFAY4Q5f3"
   },
   "source": [
    "# Importing all the essential libraries"
   ]
  },
  {
   "cell_type": "code",
   "execution_count": 1,
   "metadata": {
    "colab": {
     "base_uri": "https://localhost:8080/",
     "height": 381
    },
    "colab_type": "code",
    "id": "a_xyaFZ3SkWl",
    "outputId": "2d910ad2-c7e2-49e5-ee91-d3b40c10f796"
   },
   "outputs": [],
   "source": [
    "import configparser\n",
    "import snowflake.connector\n",
    "import matplotlib.pyplot as plt\n",
    "import numpy as np\n",
    "import pandas as pd\n",
    "from statsmodels.tsa.seasonal import seasonal_decompose                    \n",
    "from sklearn.metrics import mean_squared_error\n",
    "from statsmodels.tools.eval_measures import rmse\n",
    "from math import sqrt\n",
    "from statsmodels.tsa.stattools import adfuller\n",
    "from statsmodels.tsa.stattools import kpss\n",
    "from pmdarima import auto_arima                        \n",
    "from fbprophet import Prophet\n",
    "from fbprophet.diagnostics import cross_validation\n",
    "import statsmodels.api as sm\n",
    "import warnings\n",
    "from statsmodels.tsa.api import ExponentialSmoothing, SimpleExpSmoothing, Holt\n",
    "from tqdm import tqdm\n",
    "from tqdm._tqdm import trange\n",
    "from sklearn.metrics import mean_squared_error\n",
    "from sklearn.metrics import r2_score"
   ]
  },
  {
   "cell_type": "markdown",
   "metadata": {
    "colab_type": "text",
    "id": "rSXlojEmSkWp"
   },
   "source": [
    "# Connection"
   ]
  },
  {
   "cell_type": "code",
   "execution_count": 2,
   "metadata": {
    "colab": {},
    "colab_type": "code",
    "id": "GJz4efAjSkWp"
   },
   "outputs": [],
   "source": [
    "#config_file = 'credentials.conf.txt'\n",
    "config_file = 'credentials.conf'"
   ]
  },
  {
   "cell_type": "code",
   "execution_count": 3,
   "metadata": {
    "colab": {},
    "colab_type": "code",
    "id": "dCV9_e20SkWs",
    "outputId": "a0853013-3501-4aac-9ec8-8307695606b2"
   },
   "outputs": [
    {
     "data": {
      "text/plain": [
       "<snowflake.connector.cursor.SnowflakeCursor at 0x1cd7a520828>"
      ]
     },
     "execution_count": 3,
     "metadata": {},
     "output_type": "execute_result"
    }
   ],
   "source": [
    "credentials = configparser.ConfigParser()\n",
    "credentials.read(config_file)\n",
    "connection = snowflake.connector.connect(**credentials['SNOWFLAKE_DEV_TASTY'])          \n",
    "cursor = connection.cursor()\n",
    "cursor.execute(\"USE DATABASE {database}\".format(**credentials['SNOWFLAKE_DEV_TASTY']))\n",
    "cursor.execute(\"USE SCHEMA {schema}\".format(**credentials['SNOWFLAKE_DEV_TASTY']))"
   ]
  },
  {
   "cell_type": "markdown",
   "metadata": {
    "colab_type": "text",
    "id": "ImPJZYWiSkWy"
   },
   "source": [
    "# Load Data"
   ]
  },
  {
   "cell_type": "code",
   "execution_count": 4,
   "metadata": {
    "colab": {},
    "colab_type": "code",
    "id": "7fqEIiFASkWz"
   },
   "outputs": [],
   "source": [
    "sales = pd.read_sql('''\n",
    "                       SELECT *\n",
    "                       FROM sales_history_05282020\n",
    "                    ''', connection)"
   ]
  },
  {
   "cell_type": "code",
   "execution_count": 5,
   "metadata": {
    "colab": {},
    "colab_type": "code",
    "id": "w6QNbVEgSkW1",
    "outputId": "0667f6db-4a56-4c33-c5af-f2c2cbc41767"
   },
   "outputs": [
    {
     "data": {
      "text/html": [
       "<div>\n",
       "<style scoped>\n",
       "    .dataframe tbody tr th:only-of-type {\n",
       "        vertical-align: middle;\n",
       "    }\n",
       "\n",
       "    .dataframe tbody tr th {\n",
       "        vertical-align: top;\n",
       "    }\n",
       "\n",
       "    .dataframe thead th {\n",
       "        text-align: right;\n",
       "    }\n",
       "</style>\n",
       "<table border=\"1\" class=\"dataframe\">\n",
       "  <thead>\n",
       "    <tr style=\"text-align: right;\">\n",
       "      <th></th>\n",
       "      <th>WEEKLY_SALES_DATE</th>\n",
       "      <th>PRODUCT_ID</th>\n",
       "      <th>STORE_ID</th>\n",
       "      <th>CATEGORY</th>\n",
       "      <th>SUB_CATEGORY</th>\n",
       "      <th>STORE_GROUP</th>\n",
       "      <th>SALES_TYPE_ID</th>\n",
       "      <th>SALES_PRICE</th>\n",
       "      <th>QUANTITY</th>\n",
       "      <th>REVENUE</th>\n",
       "      <th>PREDICTED_UNITS</th>\n",
       "    </tr>\n",
       "  </thead>\n",
       "  <tbody>\n",
       "    <tr>\n",
       "      <th>1607156</th>\n",
       "      <td>2020-01-25</td>\n",
       "      <td>1210</td>\n",
       "      <td>16</td>\n",
       "      <td>07</td>\n",
       "      <td>372</td>\n",
       "      <td>2</td>\n",
       "      <td>None</td>\n",
       "      <td>4.38</td>\n",
       "      <td>183.0</td>\n",
       "      <td>801.54</td>\n",
       "      <td>211.48</td>\n",
       "    </tr>\n",
       "    <tr>\n",
       "      <th>1607157</th>\n",
       "      <td>2020-02-01</td>\n",
       "      <td>1210</td>\n",
       "      <td>16</td>\n",
       "      <td>07</td>\n",
       "      <td>372</td>\n",
       "      <td>2</td>\n",
       "      <td>None</td>\n",
       "      <td>4.38</td>\n",
       "      <td>206.0</td>\n",
       "      <td>902.28</td>\n",
       "      <td>198.45</td>\n",
       "    </tr>\n",
       "    <tr>\n",
       "      <th>1607158</th>\n",
       "      <td>2020-02-08</td>\n",
       "      <td>1210</td>\n",
       "      <td>16</td>\n",
       "      <td>07</td>\n",
       "      <td>372</td>\n",
       "      <td>2</td>\n",
       "      <td>None</td>\n",
       "      <td>4.38</td>\n",
       "      <td>190.0</td>\n",
       "      <td>832.20</td>\n",
       "      <td>183.44</td>\n",
       "    </tr>\n",
       "    <tr>\n",
       "      <th>1607159</th>\n",
       "      <td>2020-02-15</td>\n",
       "      <td>1210</td>\n",
       "      <td>16</td>\n",
       "      <td>07</td>\n",
       "      <td>372</td>\n",
       "      <td>2</td>\n",
       "      <td>None</td>\n",
       "      <td>4.38</td>\n",
       "      <td>202.0</td>\n",
       "      <td>884.76</td>\n",
       "      <td>199.61</td>\n",
       "    </tr>\n",
       "    <tr>\n",
       "      <th>1607160</th>\n",
       "      <td>2020-02-22</td>\n",
       "      <td>1210</td>\n",
       "      <td>16</td>\n",
       "      <td>07</td>\n",
       "      <td>372</td>\n",
       "      <td>2</td>\n",
       "      <td>None</td>\n",
       "      <td>4.38</td>\n",
       "      <td>165.0</td>\n",
       "      <td>722.70</td>\n",
       "      <td>193.03</td>\n",
       "    </tr>\n",
       "  </tbody>\n",
       "</table>\n",
       "</div>"
      ],
      "text/plain": [
       "        WEEKLY_SALES_DATE PRODUCT_ID STORE_ID CATEGORY SUB_CATEGORY  \\\n",
       "1607156        2020-01-25       1210       16       07          372   \n",
       "1607157        2020-02-01       1210       16       07          372   \n",
       "1607158        2020-02-08       1210       16       07          372   \n",
       "1607159        2020-02-15       1210       16       07          372   \n",
       "1607160        2020-02-22       1210       16       07          372   \n",
       "\n",
       "        STORE_GROUP SALES_TYPE_ID  SALES_PRICE  QUANTITY  REVENUE  \\\n",
       "1607156           2          None         4.38     183.0   801.54   \n",
       "1607157           2          None         4.38     206.0   902.28   \n",
       "1607158           2          None         4.38     190.0   832.20   \n",
       "1607159           2          None         4.38     202.0   884.76   \n",
       "1607160           2          None         4.38     165.0   722.70   \n",
       "\n",
       "         PREDICTED_UNITS  \n",
       "1607156           211.48  \n",
       "1607157           198.45  \n",
       "1607158           183.44  \n",
       "1607159           199.61  \n",
       "1607160           193.03  "
      ]
     },
     "execution_count": 5,
     "metadata": {},
     "output_type": "execute_result"
    }
   ],
   "source": [
    "sales.tail()"
   ]
  },
  {
   "cell_type": "code",
   "execution_count": 6,
   "metadata": {
    "colab": {},
    "colab_type": "code",
    "id": "OJ91y7gaQcVn",
    "outputId": "f4201ec0-776d-4591-8950-66bc33f95d01"
   },
   "outputs": [
    {
     "name": "stdout",
     "output_type": "stream",
     "text": [
      "2020-02-22\n",
      "2017-09-02\n"
     ]
    }
   ],
   "source": [
    "print(sales['WEEKLY_SALES_DATE'].max())\n",
    "print(sales['WEEKLY_SALES_DATE'].min())\n",
    "#sales.groupby('WEEKLY_SALES_DATE').count()"
   ]
  },
  {
   "cell_type": "code",
   "execution_count": 7,
   "metadata": {
    "colab": {},
    "colab_type": "code",
    "id": "OvgU_XY6SkW6"
   },
   "outputs": [],
   "source": [
    "#creating a copy for analysis\n",
    "sales_copy = sales.copy()"
   ]
  },
  {
   "cell_type": "markdown",
   "metadata": {
    "colab_type": "text",
    "id": "hFUuD8BESkXN"
   },
   "source": [
    "### Augmented Dickey-Fuller\n",
    "Augmented Dickey-Fuller unit root test suggests d value in I(d). Specifically, if p-value of ADF test > 0.1, then time series is non stationary and we should take difference until the difference pass the stationary test. \n",
    "\n",
    "Null Hypothesis: The series has a unit root (not-stationary)\n",
    "\n",
    "Alternate Hypothesis: The series has no unit root (stationary).\n",
    "\n",
    "### KPSS\n",
    "Null Hypothesis: The process is trend stationary.\n",
    "\n",
    "Alternate Hypothesis: The series has a unit root (series is not stationary).\n"
   ]
  },
  {
   "cell_type": "markdown",
   "metadata": {
    "colab_type": "text",
    "id": "Unhqyd4NQcWp"
   },
   "source": [
    "- Case 1: Both tests conclude that the series is not stationary -> series is not stationary\n",
    "- Case 2: Both tests conclude that the series is stationary -> series is stationary\n",
    "- Case 3: KPSS = stationary and ADF = not stationary  -> trend stationary, remove the trend to make series strict stationary\n",
    "- Case 4: KPSS = not stationary and ADF = stationary -> difference stationary, use differencing to make series stationary\n",
    "\n",
    "Sources: \n",
    "\n",
    "https://medium.com/analytics-vidhya/time-series-forecasting-sarima-vs-auto-arima-models-f95e76d71d8f\n",
    "\n",
    "https://www.analyticsvidhya.com/blog/2018/09/non-stationary-time-series-python/"
   ]
  },
  {
   "cell_type": "code",
   "execution_count": 8,
   "metadata": {
    "colab": {},
    "colab_type": "code",
    "id": "MkiQYxTBSkXO"
   },
   "outputs": [],
   "source": [
    "def stationary_test(product_id):\n",
    "    # For SALES_HISTORY for the given product IDs\n",
    "    prod_details = sales_copy[(sales_copy[\"PRODUCT_ID\"] == product_id)]\n",
    "    prod_summ = prod_details.groupby(\"WEEKLY_SALES_DATE\")[\"QUANTITY\", \"PREDICTED_UNITS\"].sum()\n",
    "\n",
    "    #creating a series of datetime indices to adjust for missing week dates\n",
    "    #adding shift to move it by a day 'D' from Sunday to Saturday\n",
    "    idx = pd.date_range(start = prod_details[\"WEEKLY_SALES_DATE\"].min(), end = prod_details[\"WEEKLY_SALES_DATE\"].max(),freq = \"W\").shift(-1, freq = 'D')\n",
    "    \n",
    "    #Change index type to Datetime\n",
    "    prod_summ.index = prod_summ.index.astype(\"datetime64[ns]\")\n",
    "\n",
    "    # fill missing data with zero \n",
    "    prod_summ = prod_summ.reindex(idx, fill_value = 0)\n",
    "    X = prod_summ['QUANTITY'].values\n",
    "    dftest = adfuller(X)\n",
    "    dfoutput = pd.Series(dftest[:4], index=['ADF Test Statistic', 'p-value', '#Lags Used', 'Number of Observations Used'])\n",
    "\n",
    "    kpss_test = kpss(prod_summ['QUANTITY'])\n",
    "    kpss_output = pd.Series(kpss_test[:3], index=['ADF Test Statistic', 'p-value', '#Lags Used'])\n",
    "\n",
    "    print('\\n ADF Results')\n",
    "    for key, val in dftest[4].items():\n",
    "        dfoutput['Criticial Value (%s)' % key] = val\n",
    "    print(dfoutput)\n",
    "    if dfoutput['p-value'] < .05:\n",
    "        print('The signal is stationary by ADF test')\n",
    "    else:\n",
    "        print('The signal is not stationary by ADF test')\n",
    "\n",
    "    print('\\n KPSS Results')\n",
    "    for key, val in kpss_test[3].items():\n",
    "        kpss_output['Criticial Value (%s)' % key] = val\n",
    "    print(kpss_output)\n",
    "    if kpss_output['p-value'] < .05:\n",
    "        print('The signal is not stationary by KPSS test')\n",
    "    else:\n",
    "        print('The signal is stationary by KPSS test')\n",
    "    print('\\t')"
   ]
  },
  {
   "cell_type": "code",
   "execution_count": 9,
   "metadata": {
    "colab": {},
    "colab_type": "code",
    "id": "6iLTjUbZQcWu",
    "outputId": "f39c5b04-309c-49a9-9fa1-fa2c9034b248"
   },
   "outputs": [
    {
     "name": "stderr",
     "output_type": "stream",
     "text": [
      "C:\\Users\\shali\\AppData\\Roaming\\Python\\Python37\\site-packages\\statsmodels\\tsa\\stattools.py:1661: FutureWarning:\n",
      "\n",
      "The behavior of using lags=None will change in the next release. Currently lags=None is the same as lags='legacy', and so a sample-size lag length is used. After the next release, the default will change to be the same as lags='auto' which uses an automatic lag length selection method. To silence this warning, either use 'auto' or 'legacy'\n",
      "\n",
      "C:\\Users\\shali\\AppData\\Roaming\\Python\\Python37\\site-packages\\statsmodels\\tsa\\stattools.py:1687: InterpolationWarning:\n",
      "\n",
      "p-value is greater than the indicated p-value\n",
      "\n"
     ]
    },
    {
     "name": "stdout",
     "output_type": "stream",
     "text": [
      "\n",
      " ADF Results\n",
      "ADF Test Statistic              -2.892116\n",
      "p-value                          0.046272\n",
      "#Lags Used                       0.000000\n",
      "Number of Observations Used    126.000000\n",
      "Criticial Value (1%)            -3.483346\n",
      "Criticial Value (5%)            -2.884766\n",
      "Criticial Value (10%)           -2.579156\n",
      "dtype: float64\n",
      "The signal is stationary by ADF test\n",
      "\n",
      " KPSS Results\n",
      "ADF Test Statistic         0.132182\n",
      "p-value                    0.100000\n",
      "#Lags Used                13.000000\n",
      "Criticial Value (10%)      0.347000\n",
      "Criticial Value (5%)       0.463000\n",
      "Criticial Value (2.5%)     0.574000\n",
      "Criticial Value (1%)       0.739000\n",
      "dtype: float64\n",
      "The signal is stationary by KPSS test\n",
      "\t\n"
     ]
    }
   ],
   "source": [
    "#trying for product 0026\n",
    "stationary_test('0026')"
   ]
  },
  {
   "cell_type": "markdown",
   "metadata": {
    "colab_type": "text",
    "id": "YSh7SYjNQcWx"
   },
   "source": [
    "# Triple Exponential Smoothing"
   ]
  },
  {
   "cell_type": "markdown",
   "metadata": {
    "colab_type": "text",
    "id": "tWZqpmOwQcWx"
   },
   "source": [
    "Exponential smoothing is a time series forecasting method for univariate data. Time series methods like the Box-Jenkins ARIMA family of methods develop a model where the prediction is a weighted linear sum of recent past observations or lags. Exponential smoothing forecasting methods are similar in that a prediction is a weighted sum of past observations, but the model explicitly uses an exponentially decreasing weight for past observations. Specifically, past observations are weighted with a geometrically decreasing ratio.\n",
    "\n",
    "Source: https://machinelearningmastery.com/exponential-smoothing-for-time-series-forecasting-in-python/<br>\n",
    "Simple Smoothing:forecasting method for univariate data without a trend or seasonality;<br>\n",
    "$F_{t+1}$ = $\\alpha D_{t}$ + $(1- \\alpha)F_{t}$\n",
    "- $F_{t+1}$ - forecast\n",
    "- $D_{t}$ - Sales in time t\n",
    "- $\\alpha$ - smoothing constant\n",
    "\n",
    "Holt's Method:forecasting method for univariate data with a trend but no seasonality;<br>\n",
    "$F_{t+1}$ = $a_{t}$ + $b_{t}$= Level component + Slope component <br>\n",
    "$a_{t}=\\alpha D_{t} + (1-\\alpha)(a_{t-1}+b_{t-1})=\\alpha D_{t} + (1-\\alpha)(F_{t-1})$<br>\n",
    "$b_{t}=\\beta(a_{t} - a_{t-1}) + (1-\\beta)(b_{t-1})=\\beta(level_{t} - level_{(t-1)}) + (1-\\beta)(Slope_{t-1})$\n",
    "- $F_{t+1}$ - forecast\n",
    "- $D_{t}$ - Sales in time t\n",
    "- $\\alpha$ - smoothing constant for level\n",
    "- $\\beta$ - smoothing constant for trend\n",
    "\n",
    "Winters Method:forecasting method for univariate data with a trend and seasonality;<br>\n",
    "$F_{t+1}$ = $(a_{t}+ b_{t})*C_{t}$= (Level component + Slope component)\\* Seasonality component<br>\n",
    "$a_{t}=\\alpha (D_{t}/C_{t}) + (1-\\alpha)(a_{t-1}+b_{t-1})$<br>\n",
    "$b_{t}=\\beta(a_{t} - a_{t-1}) + (1-\\beta)(b_{t-1})=\\beta(level_{t} - level_{(t-1)}) + (1-\\beta)(Slope_{t-1})$<br>\n",
    "$C_{t}=\\gamma (D_{t}/a_{t}) + (1-\\gamma)*C_{t}$<br>\n",
    "- $F_{t+1}$ - forecast\n",
    "- $D_{t}$ - Sales in time t\n",
    "- $\\alpha$ - smoothing constant for level\n",
    "- $\\beta$ - smoothing constant for trend\n",
    "- $\\gamma$ - smoothing constant for trend\n"
   ]
  },
  {
   "cell_type": "markdown",
   "metadata": {
    "colab_type": "text",
    "id": "FxQWL4NFQcWy"
   },
   "source": [
    "#### Box-Cox transform:\n",
    "It is a configurable data transform method that supports both square root and log transform, as well as a suite of related transforms. lambda parameter set to None (the default) lets the function find a statistically tuned value"
   ]
  },
  {
   "cell_type": "markdown",
   "metadata": {
    "colab_type": "text",
    "id": "yxlHTpBTQcWy"
   },
   "source": [
    "#### Seasonality Models\n",
    "In the additive model, the behavior is linear where changes over time are consistently made by the same amount, like a linear trend. In this situation, the linear seasonality has the same amplitude and frequency.\n",
    "Different from the additive model, the multiplicative model has an increasing or decreasing amplitude and/or frequency over time"
   ]
  },
  {
   "cell_type": "markdown",
   "metadata": {
    "colab_type": "text",
    "id": "caH6xhwpQcWz"
   },
   "source": [
    "## Test and Training Set\n",
    "- Training: from 2017-09-02 to 2019-11-16\n",
    "- Test: from 2019-11-23 until 2019-12-28"
   ]
  },
  {
   "cell_type": "markdown",
   "metadata": {
    "colab_type": "text",
    "id": "6-qrvs4hQcWz"
   },
   "source": [
    "### 3 Categories Analysis"
   ]
  },
  {
   "cell_type": "code",
   "execution_count": 15,
   "metadata": {
    "colab": {},
    "colab_type": "code",
    "id": "WIXAqeweQcW0"
   },
   "outputs": [],
   "source": [
    "#Global Variables\n",
    "selected_category=['24','18','04']\n",
    "TRAIN_START = \"2017-09-02\"\n",
    "TRAIN_END = \"2019-08-31\"\n",
    "TEST_START = \"2019-09-07\"\n",
    "TEST_END = \"2019-12-28\"\n",
    "selected_store = ['16']\n",
    "\n",
    "#Creating an empty dataframe\n",
    "performance_TES = pd.DataFrame(columns = [\"CATEGORY\", \"SUB_CATEGORY\", \"STORE_ID\", \"PRODUCT_ID\", \"quantity\", \"e3\", \"yhat\", \"rmse_E3\", \"rmse_TES\"])"
   ]
  },
  {
   "cell_type": "code",
   "execution_count": 11,
   "metadata": {
    "colab": {},
    "colab_type": "code",
    "id": "mf1FUEmwQcW2"
   },
   "outputs": [],
   "source": [
    "#Creating folder paths for E3 & TES plots\n",
    "import os\n",
    "path=os.getcwd()\n",
    "TES_path=path+'\\TES_plots'\n",
    "E3_path=path+'\\E3_plots'"
   ]
  },
  {
   "cell_type": "code",
   "execution_count": 13,
   "metadata": {
    "colab": {},
    "colab_type": "code",
    "id": "s-TWHpjYQcW4"
   },
   "outputs": [],
   "source": [
    "#Create the new directories \n",
    "os.mkdir(path+'\\TES_plots')\n",
    "os.mkdir(path+'\\E3_plots')"
   ]
  },
  {
   "cell_type": "code",
   "execution_count": 14,
   "metadata": {
    "colab": {},
    "colab_type": "code",
    "id": "o_AUIMEUQcW7",
    "outputId": "8b756dc4-afac-4ba9-aab2-2118418680d6"
   },
   "outputs": [
    {
     "data": {
      "text/plain": [
       "'C:\\\\Users\\\\shali\\\\Downloads\\\\TES_plots'"
      ]
     },
     "execution_count": 14,
     "metadata": {},
     "output_type": "execute_result"
    }
   ],
   "source": [
    "TES_path"
   ]
  },
  {
   "cell_type": "code",
   "execution_count": 16,
   "metadata": {
    "colab": {},
    "colab_type": "code",
    "id": "fwh-cc0iQcW-",
    "outputId": "90d12c68-5b16-41f6-eb47-c30db9477381"
   },
   "outputs": [
    {
     "name": "stderr",
     "output_type": "stream",
     "text": [
      "  0%|                                                                                            | 0/3 [00:00<?, ?it/s]\n",
      "  0%|                                                                                            | 0/1 [00:00<?, ?it/s]"
     ]
    },
    {
     "name": "stdout",
     "output_type": "stream",
     "text": [
      "cannot copy sequence with size 48 to array axis with dimension 58 CATEGORY: 24  STORE: 16  PRODUCT: 0951\n",
      "cannot copy sequence with size 53 to array axis with dimension 58 CATEGORY: 24  STORE: 16  PRODUCT: 0968\n",
      "cannot copy sequence with size 54 to array axis with dimension 58 CATEGORY: 24  STORE: 16  PRODUCT: 1037\n",
      "cannot copy sequence with size 26 to array axis with dimension 58 CATEGORY: 24  STORE: 16  PRODUCT: 1103\n",
      "cannot copy sequence with size 6 to array axis with dimension 58 CATEGORY: 24  STORE: 16  PRODUCT: 1108\n",
      "CATEGORY: 24  STORE: 16  is done.\n"
     ]
    },
    {
     "name": "stderr",
     "output_type": "stream",
     "text": [
      "\n",
      " 33%|████████████████████████████                                                        | 1/3 [01:11<02:23, 71.94s/it]\n",
      "  0%|                                                                                            | 0/1 [00:00<?, ?it/s]"
     ]
    },
    {
     "name": "stdout",
     "output_type": "stream",
     "text": [
      "cannot copy sequence with size 26 to array axis with dimension 58 CATEGORY: 18  STORE: 16  PRODUCT: 0074\n",
      "cannot copy sequence with size 35 to array axis with dimension 58 CATEGORY: 18  STORE: 16  PRODUCT: 0364\n",
      "cannot copy sequence with size 54 to array axis with dimension 58 CATEGORY: 18  STORE: 16  PRODUCT: 0390\n",
      "cannot copy sequence with size 41 to array axis with dimension 58 CATEGORY: 18  STORE: 16  PRODUCT: 0622\n",
      "CATEGORY: 18  STORE: 16  is done.\n"
     ]
    },
    {
     "name": "stderr",
     "output_type": "stream",
     "text": [
      "\n",
      " 67%|████████████████████████████████████████████████████████                            | 2/3 [01:58<01:04, 64.39s/it]\n",
      "  0%|                                                                                            | 0/1 [00:00<?, ?it/s]"
     ]
    },
    {
     "name": "stdout",
     "output_type": "stream",
     "text": [
      "cannot copy sequence with size 41 to array axis with dimension 58 CATEGORY: 04  STORE: 16  PRODUCT: 0029\n",
      "cannot copy sequence with size 27 to array axis with dimension 58 CATEGORY: 04  STORE: 16  PRODUCT: 0359\n",
      "cannot copy sequence with size 42 to array axis with dimension 58 CATEGORY: 04  STORE: 16  PRODUCT: 0415\n",
      "cannot copy sequence with size 6 to array axis with dimension 58 CATEGORY: 04  STORE: 16  PRODUCT: 0435\n",
      "cannot copy sequence with size 30 to array axis with dimension 58 CATEGORY: 04  STORE: 16  PRODUCT: 0579\n",
      "cannot copy sequence with size 39 to array axis with dimension 58 CATEGORY: 04  STORE: 16  PRODUCT: 0808\n",
      "cannot copy sequence with size 26 to array axis with dimension 58 CATEGORY: 04  STORE: 16  PRODUCT: 1072\n",
      "cannot copy sequence with size 27 to array axis with dimension 58 CATEGORY: 04  STORE: 16  PRODUCT: 1077\n",
      "CATEGORY: 04  STORE: 16  is done.\n"
     ]
    },
    {
     "name": "stderr",
     "output_type": "stream",
     "text": [
      "\n",
      "100%|████████████████████████████████████████████████████████████████████████████████████| 3/3 [03:13<00:00, 67.56s/it]\n"
     ]
    },
    {
     "data": {
      "text/plain": [
       "<Figure size 1152x360 with 0 Axes>"
      ]
     },
     "metadata": {},
     "output_type": "display_data"
    },
    {
     "data": {
      "text/plain": [
       "<Figure size 1152x360 with 0 Axes>"
      ]
     },
     "metadata": {},
     "output_type": "display_data"
    },
    {
     "data": {
      "text/plain": [
       "<Figure size 1152x360 with 0 Axes>"
      ]
     },
     "metadata": {},
     "output_type": "display_data"
    },
    {
     "data": {
      "text/plain": [
       "<Figure size 1152x360 with 0 Axes>"
      ]
     },
     "metadata": {},
     "output_type": "display_data"
    },
    {
     "data": {
      "text/plain": [
       "<Figure size 1152x360 with 0 Axes>"
      ]
     },
     "metadata": {},
     "output_type": "display_data"
    },
    {
     "data": {
      "text/plain": [
       "<Figure size 1152x360 with 0 Axes>"
      ]
     },
     "metadata": {},
     "output_type": "display_data"
    },
    {
     "data": {
      "text/plain": [
       "<Figure size 1152x360 with 0 Axes>"
      ]
     },
     "metadata": {},
     "output_type": "display_data"
    },
    {
     "data": {
      "text/plain": [
       "<Figure size 1152x360 with 0 Axes>"
      ]
     },
     "metadata": {},
     "output_type": "display_data"
    },
    {
     "data": {
      "text/plain": [
       "<Figure size 1152x360 with 0 Axes>"
      ]
     },
     "metadata": {},
     "output_type": "display_data"
    },
    {
     "data": {
      "text/plain": [
       "<Figure size 1152x360 with 0 Axes>"
      ]
     },
     "metadata": {},
     "output_type": "display_data"
    },
    {
     "data": {
      "text/plain": [
       "<Figure size 1152x360 with 0 Axes>"
      ]
     },
     "metadata": {},
     "output_type": "display_data"
    },
    {
     "data": {
      "text/plain": [
       "<Figure size 1152x360 with 0 Axes>"
      ]
     },
     "metadata": {},
     "output_type": "display_data"
    },
    {
     "data": {
      "text/plain": [
       "<Figure size 1152x360 with 0 Axes>"
      ]
     },
     "metadata": {},
     "output_type": "display_data"
    },
    {
     "data": {
      "text/plain": [
       "<Figure size 1152x360 with 0 Axes>"
      ]
     },
     "metadata": {},
     "output_type": "display_data"
    },
    {
     "data": {
      "text/plain": [
       "<Figure size 1152x360 with 0 Axes>"
      ]
     },
     "metadata": {},
     "output_type": "display_data"
    },
    {
     "data": {
      "text/plain": [
       "<Figure size 1152x360 with 0 Axes>"
      ]
     },
     "metadata": {},
     "output_type": "display_data"
    },
    {
     "data": {
      "text/plain": [
       "<Figure size 1152x360 with 0 Axes>"
      ]
     },
     "metadata": {},
     "output_type": "display_data"
    },
    {
     "data": {
      "text/plain": [
       "<Figure size 1152x360 with 0 Axes>"
      ]
     },
     "metadata": {},
     "output_type": "display_data"
    },
    {
     "data": {
      "text/plain": [
       "<Figure size 1152x360 with 0 Axes>"
      ]
     },
     "metadata": {},
     "output_type": "display_data"
    },
    {
     "data": {
      "text/plain": [
       "<Figure size 1152x360 with 0 Axes>"
      ]
     },
     "metadata": {},
     "output_type": "display_data"
    },
    {
     "data": {
      "text/plain": [
       "<Figure size 1152x360 with 0 Axes>"
      ]
     },
     "metadata": {},
     "output_type": "display_data"
    },
    {
     "data": {
      "text/plain": [
       "<Figure size 1152x360 with 0 Axes>"
      ]
     },
     "metadata": {},
     "output_type": "display_data"
    },
    {
     "data": {
      "text/plain": [
       "<Figure size 1152x360 with 0 Axes>"
      ]
     },
     "metadata": {},
     "output_type": "display_data"
    },
    {
     "data": {
      "text/plain": [
       "<Figure size 1152x360 with 0 Axes>"
      ]
     },
     "metadata": {},
     "output_type": "display_data"
    },
    {
     "data": {
      "text/plain": [
       "<Figure size 1152x360 with 0 Axes>"
      ]
     },
     "metadata": {},
     "output_type": "display_data"
    },
    {
     "data": {
      "text/plain": [
       "<Figure size 1152x360 with 0 Axes>"
      ]
     },
     "metadata": {},
     "output_type": "display_data"
    },
    {
     "data": {
      "text/plain": [
       "<Figure size 1152x360 with 0 Axes>"
      ]
     },
     "metadata": {},
     "output_type": "display_data"
    },
    {
     "data": {
      "text/plain": [
       "<Figure size 1152x360 with 0 Axes>"
      ]
     },
     "metadata": {},
     "output_type": "display_data"
    },
    {
     "data": {
      "text/plain": [
       "<Figure size 1152x360 with 0 Axes>"
      ]
     },
     "metadata": {},
     "output_type": "display_data"
    },
    {
     "data": {
      "text/plain": [
       "<Figure size 1152x360 with 0 Axes>"
      ]
     },
     "metadata": {},
     "output_type": "display_data"
    },
    {
     "data": {
      "text/plain": [
       "<Figure size 1152x360 with 0 Axes>"
      ]
     },
     "metadata": {},
     "output_type": "display_data"
    },
    {
     "data": {
      "text/plain": [
       "<Figure size 1152x360 with 0 Axes>"
      ]
     },
     "metadata": {},
     "output_type": "display_data"
    },
    {
     "data": {
      "text/plain": [
       "<Figure size 1152x360 with 0 Axes>"
      ]
     },
     "metadata": {},
     "output_type": "display_data"
    },
    {
     "data": {
      "text/plain": [
       "<Figure size 1152x360 with 0 Axes>"
      ]
     },
     "metadata": {},
     "output_type": "display_data"
    },
    {
     "data": {
      "text/plain": [
       "<Figure size 1152x360 with 0 Axes>"
      ]
     },
     "metadata": {},
     "output_type": "display_data"
    },
    {
     "data": {
      "text/plain": [
       "<Figure size 1152x360 with 0 Axes>"
      ]
     },
     "metadata": {},
     "output_type": "display_data"
    },
    {
     "data": {
      "text/plain": [
       "<Figure size 1152x360 with 0 Axes>"
      ]
     },
     "metadata": {},
     "output_type": "display_data"
    },
    {
     "data": {
      "text/plain": [
       "<Figure size 1152x360 with 0 Axes>"
      ]
     },
     "metadata": {},
     "output_type": "display_data"
    },
    {
     "data": {
      "text/plain": [
       "<Figure size 1152x360 with 0 Axes>"
      ]
     },
     "metadata": {},
     "output_type": "display_data"
    },
    {
     "data": {
      "text/plain": [
       "<Figure size 1152x360 with 0 Axes>"
      ]
     },
     "metadata": {},
     "output_type": "display_data"
    },
    {
     "data": {
      "text/plain": [
       "<Figure size 1152x360 with 0 Axes>"
      ]
     },
     "metadata": {},
     "output_type": "display_data"
    },
    {
     "data": {
      "text/plain": [
       "<Figure size 1152x360 with 0 Axes>"
      ]
     },
     "metadata": {},
     "output_type": "display_data"
    },
    {
     "data": {
      "text/plain": [
       "<Figure size 1152x360 with 0 Axes>"
      ]
     },
     "metadata": {},
     "output_type": "display_data"
    },
    {
     "data": {
      "text/plain": [
       "<Figure size 1152x360 with 0 Axes>"
      ]
     },
     "metadata": {},
     "output_type": "display_data"
    },
    {
     "data": {
      "text/plain": [
       "<Figure size 1152x360 with 0 Axes>"
      ]
     },
     "metadata": {},
     "output_type": "display_data"
    },
    {
     "data": {
      "text/plain": [
       "<Figure size 1152x360 with 0 Axes>"
      ]
     },
     "metadata": {},
     "output_type": "display_data"
    },
    {
     "data": {
      "text/plain": [
       "<Figure size 1152x360 with 0 Axes>"
      ]
     },
     "metadata": {},
     "output_type": "display_data"
    },
    {
     "data": {
      "text/plain": [
       "<Figure size 1152x360 with 0 Axes>"
      ]
     },
     "metadata": {},
     "output_type": "display_data"
    },
    {
     "data": {
      "text/plain": [
       "<Figure size 1152x360 with 0 Axes>"
      ]
     },
     "metadata": {},
     "output_type": "display_data"
    },
    {
     "data": {
      "text/plain": [
       "<Figure size 1152x360 with 0 Axes>"
      ]
     },
     "metadata": {},
     "output_type": "display_data"
    },
    {
     "data": {
      "text/plain": [
       "<Figure size 1152x360 with 0 Axes>"
      ]
     },
     "metadata": {},
     "output_type": "display_data"
    },
    {
     "data": {
      "text/plain": [
       "<Figure size 1152x360 with 0 Axes>"
      ]
     },
     "metadata": {},
     "output_type": "display_data"
    },
    {
     "data": {
      "text/plain": [
       "<Figure size 1152x360 with 0 Axes>"
      ]
     },
     "metadata": {},
     "output_type": "display_data"
    },
    {
     "data": {
      "text/plain": [
       "<Figure size 1152x360 with 0 Axes>"
      ]
     },
     "metadata": {},
     "output_type": "display_data"
    },
    {
     "data": {
      "text/plain": [
       "<Figure size 1152x360 with 0 Axes>"
      ]
     },
     "metadata": {},
     "output_type": "display_data"
    },
    {
     "data": {
      "text/plain": [
       "<Figure size 1152x360 with 0 Axes>"
      ]
     },
     "metadata": {},
     "output_type": "display_data"
    },
    {
     "data": {
      "text/plain": [
       "<Figure size 1152x360 with 0 Axes>"
      ]
     },
     "metadata": {},
     "output_type": "display_data"
    },
    {
     "data": {
      "text/plain": [
       "<Figure size 1152x360 with 0 Axes>"
      ]
     },
     "metadata": {},
     "output_type": "display_data"
    },
    {
     "data": {
      "text/plain": [
       "<Figure size 1152x360 with 0 Axes>"
      ]
     },
     "metadata": {},
     "output_type": "display_data"
    },
    {
     "data": {
      "text/plain": [
       "<Figure size 1152x360 with 0 Axes>"
      ]
     },
     "metadata": {},
     "output_type": "display_data"
    },
    {
     "data": {
      "text/plain": [
       "<Figure size 1152x360 with 0 Axes>"
      ]
     },
     "metadata": {},
     "output_type": "display_data"
    },
    {
     "data": {
      "text/plain": [
       "<Figure size 1152x360 with 0 Axes>"
      ]
     },
     "metadata": {},
     "output_type": "display_data"
    },
    {
     "data": {
      "text/plain": [
       "<Figure size 1152x360 with 0 Axes>"
      ]
     },
     "metadata": {},
     "output_type": "display_data"
    },
    {
     "data": {
      "text/plain": [
       "<Figure size 1152x360 with 0 Axes>"
      ]
     },
     "metadata": {},
     "output_type": "display_data"
    },
    {
     "data": {
      "text/plain": [
       "<Figure size 1152x360 with 0 Axes>"
      ]
     },
     "metadata": {},
     "output_type": "display_data"
    },
    {
     "data": {
      "text/plain": [
       "<Figure size 1152x360 with 0 Axes>"
      ]
     },
     "metadata": {},
     "output_type": "display_data"
    },
    {
     "data": {
      "text/plain": [
       "<Figure size 1152x360 with 0 Axes>"
      ]
     },
     "metadata": {},
     "output_type": "display_data"
    },
    {
     "data": {
      "text/plain": [
       "<Figure size 1152x360 with 0 Axes>"
      ]
     },
     "metadata": {},
     "output_type": "display_data"
    },
    {
     "data": {
      "text/plain": [
       "<Figure size 1152x360 with 0 Axes>"
      ]
     },
     "metadata": {},
     "output_type": "display_data"
    },
    {
     "data": {
      "text/plain": [
       "<Figure size 1152x360 with 0 Axes>"
      ]
     },
     "metadata": {},
     "output_type": "display_data"
    },
    {
     "data": {
      "text/plain": [
       "<Figure size 1152x360 with 0 Axes>"
      ]
     },
     "metadata": {},
     "output_type": "display_data"
    },
    {
     "data": {
      "text/plain": [
       "<Figure size 1152x360 with 0 Axes>"
      ]
     },
     "metadata": {},
     "output_type": "display_data"
    },
    {
     "data": {
      "text/plain": [
       "<Figure size 1152x360 with 0 Axes>"
      ]
     },
     "metadata": {},
     "output_type": "display_data"
    },
    {
     "data": {
      "text/plain": [
       "<Figure size 1152x360 with 0 Axes>"
      ]
     },
     "metadata": {},
     "output_type": "display_data"
    },
    {
     "data": {
      "text/plain": [
       "<Figure size 1152x360 with 0 Axes>"
      ]
     },
     "metadata": {},
     "output_type": "display_data"
    },
    {
     "data": {
      "text/plain": [
       "<Figure size 1152x360 with 0 Axes>"
      ]
     },
     "metadata": {},
     "output_type": "display_data"
    },
    {
     "data": {
      "text/plain": [
       "<Figure size 1152x360 with 0 Axes>"
      ]
     },
     "metadata": {},
     "output_type": "display_data"
    },
    {
     "data": {
      "text/plain": [
       "<Figure size 1152x360 with 0 Axes>"
      ]
     },
     "metadata": {},
     "output_type": "display_data"
    },
    {
     "data": {
      "text/plain": [
       "<Figure size 1152x360 with 0 Axes>"
      ]
     },
     "metadata": {},
     "output_type": "display_data"
    },
    {
     "data": {
      "text/plain": [
       "<Figure size 1152x360 with 0 Axes>"
      ]
     },
     "metadata": {},
     "output_type": "display_data"
    },
    {
     "data": {
      "text/plain": [
       "<Figure size 1152x360 with 0 Axes>"
      ]
     },
     "metadata": {},
     "output_type": "display_data"
    },
    {
     "data": {
      "text/plain": [
       "<Figure size 1152x360 with 0 Axes>"
      ]
     },
     "metadata": {},
     "output_type": "display_data"
    },
    {
     "data": {
      "text/plain": [
       "<Figure size 1152x360 with 0 Axes>"
      ]
     },
     "metadata": {},
     "output_type": "display_data"
    },
    {
     "data": {
      "text/plain": [
       "<Figure size 1152x360 with 0 Axes>"
      ]
     },
     "metadata": {},
     "output_type": "display_data"
    },
    {
     "data": {
      "text/plain": [
       "<Figure size 1152x360 with 0 Axes>"
      ]
     },
     "metadata": {},
     "output_type": "display_data"
    },
    {
     "data": {
      "text/plain": [
       "<Figure size 1152x360 with 0 Axes>"
      ]
     },
     "metadata": {},
     "output_type": "display_data"
    },
    {
     "data": {
      "text/plain": [
       "<Figure size 1152x360 with 0 Axes>"
      ]
     },
     "metadata": {},
     "output_type": "display_data"
    },
    {
     "data": {
      "text/plain": [
       "<Figure size 1152x360 with 0 Axes>"
      ]
     },
     "metadata": {},
     "output_type": "display_data"
    },
    {
     "data": {
      "text/plain": [
       "<Figure size 1152x360 with 0 Axes>"
      ]
     },
     "metadata": {},
     "output_type": "display_data"
    },
    {
     "data": {
      "text/plain": [
       "<Figure size 1152x360 with 0 Axes>"
      ]
     },
     "metadata": {},
     "output_type": "display_data"
    },
    {
     "data": {
      "text/plain": [
       "<Figure size 1152x360 with 0 Axes>"
      ]
     },
     "metadata": {},
     "output_type": "display_data"
    },
    {
     "data": {
      "text/plain": [
       "<Figure size 1152x360 with 0 Axes>"
      ]
     },
     "metadata": {},
     "output_type": "display_data"
    },
    {
     "data": {
      "text/plain": [
       "<Figure size 1152x360 with 0 Axes>"
      ]
     },
     "metadata": {},
     "output_type": "display_data"
    },
    {
     "data": {
      "text/plain": [
       "<Figure size 1152x360 with 0 Axes>"
      ]
     },
     "metadata": {},
     "output_type": "display_data"
    },
    {
     "data": {
      "text/plain": [
       "<Figure size 1152x360 with 0 Axes>"
      ]
     },
     "metadata": {},
     "output_type": "display_data"
    },
    {
     "data": {
      "text/plain": [
       "<Figure size 1152x360 with 0 Axes>"
      ]
     },
     "metadata": {},
     "output_type": "display_data"
    },
    {
     "data": {
      "text/plain": [
       "<Figure size 1152x360 with 0 Axes>"
      ]
     },
     "metadata": {},
     "output_type": "display_data"
    },
    {
     "data": {
      "text/plain": [
       "<Figure size 1152x360 with 0 Axes>"
      ]
     },
     "metadata": {},
     "output_type": "display_data"
    },
    {
     "data": {
      "text/plain": [
       "<Figure size 1152x360 with 0 Axes>"
      ]
     },
     "metadata": {},
     "output_type": "display_data"
    },
    {
     "data": {
      "text/plain": [
       "<Figure size 1152x360 with 0 Axes>"
      ]
     },
     "metadata": {},
     "output_type": "display_data"
    },
    {
     "data": {
      "text/plain": [
       "<Figure size 1152x360 with 0 Axes>"
      ]
     },
     "metadata": {},
     "output_type": "display_data"
    },
    {
     "data": {
      "text/plain": [
       "<Figure size 1152x360 with 0 Axes>"
      ]
     },
     "metadata": {},
     "output_type": "display_data"
    },
    {
     "data": {
      "text/plain": [
       "<Figure size 1152x360 with 0 Axes>"
      ]
     },
     "metadata": {},
     "output_type": "display_data"
    },
    {
     "data": {
      "text/plain": [
       "<Figure size 1152x360 with 0 Axes>"
      ]
     },
     "metadata": {},
     "output_type": "display_data"
    },
    {
     "data": {
      "text/plain": [
       "<Figure size 1152x360 with 0 Axes>"
      ]
     },
     "metadata": {},
     "output_type": "display_data"
    },
    {
     "data": {
      "text/plain": [
       "<Figure size 1152x360 with 0 Axes>"
      ]
     },
     "metadata": {},
     "output_type": "display_data"
    },
    {
     "data": {
      "text/plain": [
       "<Figure size 1152x360 with 0 Axes>"
      ]
     },
     "metadata": {},
     "output_type": "display_data"
    },
    {
     "data": {
      "text/plain": [
       "<Figure size 1152x360 with 0 Axes>"
      ]
     },
     "metadata": {},
     "output_type": "display_data"
    },
    {
     "data": {
      "text/plain": [
       "<Figure size 1152x360 with 0 Axes>"
      ]
     },
     "metadata": {},
     "output_type": "display_data"
    },
    {
     "data": {
      "text/plain": [
       "<Figure size 1152x360 with 0 Axes>"
      ]
     },
     "metadata": {},
     "output_type": "display_data"
    },
    {
     "data": {
      "text/plain": [
       "<Figure size 1152x360 with 0 Axes>"
      ]
     },
     "metadata": {},
     "output_type": "display_data"
    },
    {
     "data": {
      "text/plain": [
       "<Figure size 1152x360 with 0 Axes>"
      ]
     },
     "metadata": {},
     "output_type": "display_data"
    },
    {
     "data": {
      "text/plain": [
       "<Figure size 1152x360 with 0 Axes>"
      ]
     },
     "metadata": {},
     "output_type": "display_data"
    },
    {
     "data": {
      "text/plain": [
       "<Figure size 1152x360 with 0 Axes>"
      ]
     },
     "metadata": {},
     "output_type": "display_data"
    },
    {
     "data": {
      "text/plain": [
       "<Figure size 1152x360 with 0 Axes>"
      ]
     },
     "metadata": {},
     "output_type": "display_data"
    },
    {
     "data": {
      "text/plain": [
       "<Figure size 1152x360 with 0 Axes>"
      ]
     },
     "metadata": {},
     "output_type": "display_data"
    },
    {
     "data": {
      "text/plain": [
       "<Figure size 1152x360 with 0 Axes>"
      ]
     },
     "metadata": {},
     "output_type": "display_data"
    },
    {
     "data": {
      "text/plain": [
       "<Figure size 1152x360 with 0 Axes>"
      ]
     },
     "metadata": {},
     "output_type": "display_data"
    },
    {
     "data": {
      "text/plain": [
       "<Figure size 1152x360 with 0 Axes>"
      ]
     },
     "metadata": {},
     "output_type": "display_data"
    },
    {
     "data": {
      "text/plain": [
       "<Figure size 1152x360 with 0 Axes>"
      ]
     },
     "metadata": {},
     "output_type": "display_data"
    },
    {
     "data": {
      "text/plain": [
       "<Figure size 1152x360 with 0 Axes>"
      ]
     },
     "metadata": {},
     "output_type": "display_data"
    },
    {
     "data": {
      "text/plain": [
       "<Figure size 1152x360 with 0 Axes>"
      ]
     },
     "metadata": {},
     "output_type": "display_data"
    },
    {
     "data": {
      "text/plain": [
       "<Figure size 1152x360 with 0 Axes>"
      ]
     },
     "metadata": {},
     "output_type": "display_data"
    },
    {
     "data": {
      "text/plain": [
       "<Figure size 1152x360 with 0 Axes>"
      ]
     },
     "metadata": {},
     "output_type": "display_data"
    },
    {
     "data": {
      "text/plain": [
       "<Figure size 1152x360 with 0 Axes>"
      ]
     },
     "metadata": {},
     "output_type": "display_data"
    },
    {
     "data": {
      "text/plain": [
       "<Figure size 1152x360 with 0 Axes>"
      ]
     },
     "metadata": {},
     "output_type": "display_data"
    },
    {
     "data": {
      "text/plain": [
       "<Figure size 1152x360 with 0 Axes>"
      ]
     },
     "metadata": {},
     "output_type": "display_data"
    },
    {
     "data": {
      "text/plain": [
       "<Figure size 1152x360 with 0 Axes>"
      ]
     },
     "metadata": {},
     "output_type": "display_data"
    },
    {
     "data": {
      "text/plain": [
       "<Figure size 1152x360 with 0 Axes>"
      ]
     },
     "metadata": {},
     "output_type": "display_data"
    },
    {
     "data": {
      "text/plain": [
       "<Figure size 1152x360 with 0 Axes>"
      ]
     },
     "metadata": {},
     "output_type": "display_data"
    },
    {
     "data": {
      "text/plain": [
       "<Figure size 1152x360 with 0 Axes>"
      ]
     },
     "metadata": {},
     "output_type": "display_data"
    },
    {
     "data": {
      "text/plain": [
       "<Figure size 1152x360 with 0 Axes>"
      ]
     },
     "metadata": {},
     "output_type": "display_data"
    },
    {
     "data": {
      "text/plain": [
       "<Figure size 1152x360 with 0 Axes>"
      ]
     },
     "metadata": {},
     "output_type": "display_data"
    },
    {
     "data": {
      "text/plain": [
       "<Figure size 1152x360 with 0 Axes>"
      ]
     },
     "metadata": {},
     "output_type": "display_data"
    },
    {
     "data": {
      "text/plain": [
       "<Figure size 1152x360 with 0 Axes>"
      ]
     },
     "metadata": {},
     "output_type": "display_data"
    },
    {
     "data": {
      "text/plain": [
       "<Figure size 1152x360 with 0 Axes>"
      ]
     },
     "metadata": {},
     "output_type": "display_data"
    },
    {
     "data": {
      "text/plain": [
       "<Figure size 1152x360 with 0 Axes>"
      ]
     },
     "metadata": {},
     "output_type": "display_data"
    },
    {
     "data": {
      "text/plain": [
       "<Figure size 1152x360 with 0 Axes>"
      ]
     },
     "metadata": {},
     "output_type": "display_data"
    },
    {
     "data": {
      "text/plain": [
       "<Figure size 1152x360 with 0 Axes>"
      ]
     },
     "metadata": {},
     "output_type": "display_data"
    }
   ],
   "source": [
    "for category in tqdm(selected_category):\n",
    "    # selected_store = sales_copy[sales_copy['CATEGORY']==category]['STORE_ID'].unique()\n",
    "    for store in tqdm(selected_store):\n",
    "        selected_product = sales_copy[(sales_copy['CATEGORY']==category) & (sales_copy['STORE_ID']==store)]['PRODUCT_ID'].unique()\n",
    "\n",
    "        for product in selected_product:\n",
    "            try:\n",
    "                #prepare data\n",
    "                specific_sales = sales_copy[(sales_copy['CATEGORY']==category) & (sales_copy['STORE_ID']==store) & (sales_copy[\"PRODUCT_ID\"] == product)]\n",
    "                sum_sales = specific_sales.groupby(\"WEEKLY_SALES_DATE\")[\"QUANTITY\",\"PREDICTED_UNITS\"].sum()\n",
    "                # setting indices to account for missing dates\n",
    "                idx = pd.date_range(start = specific_sales[\"WEEKLY_SALES_DATE\"].min(),\n",
    "                                    end   = specific_sales[\"WEEKLY_SALES_DATE\"].max(), freq = \"W\").shift(-1, freq = 'D')\n",
    "                TEST_END = specific_sales[\"WEEKLY_SALES_DATE\"].max()\n",
    "                #dates as indices\n",
    "                sum_sales.index = sum_sales.index.astype(\"datetime64[ns]\")\n",
    "                sum_sales = sum_sales.reindex(idx, fill_value = 0)\n",
    "                #creating dataframe with E3 Model values\n",
    "                E3_predicted_units = pd.DataFrame(sum_sales['PREDICTED_UNITS'])\n",
    "                E3_predicted_units.index = E3_predicted_units.index.astype(\"datetime64[ns]\")\n",
    "                E3_predicted_units=E3_predicted_units.reindex(idx, fill_value = 0)\n",
    "                #keeping original sales in the original dataframe\n",
    "                sum_sales.drop(['PREDICTED_UNITS'], axis=1, inplace=True)\n",
    "                \n",
    "                #training set\n",
    "                sum_sales_train = sum_sales.loc[\"2017-09-02\":\"2019-08-31\"]\n",
    "                sum_sales_train = sum_sales_train.reset_index().rename(columns = {\"index\":'ds', \"QUANTITY\": \"y\"})\n",
    "                #test set\n",
    "                sum_sales_test = sum_sales.loc[\"2019-09-07\":\"2019-12-28\"]\n",
    "                #pred_rev = E3_predicted_units\n",
    "\n",
    "                #Splitting the dataset\n",
    "                train_data=sum_sales.loc[\"2017-09-02\":\"2019-08-31\"]\n",
    "                test_data=E3_predicted_units.loc[\"2019-09-07\":\"2019-12-28\"]\n",
    "                import warnings\n",
    "                warnings.filterwarnings('ignore')\n",
    "                #Train the model\n",
    "                fit = ExponentialSmoothing(train_data,seasonal_periods=52, seasonal='add').fit()\n",
    "                pred={'y_hat':fit.forecast(len(test_data))}\n",
    "                prediction=pd.DataFrame(pred).reset_index().rename(columns = {\"index\":'ds'})\n",
    "                prediction_oos = prediction[(prediction[\"ds\"]>=TEST_START)&(prediction[\"ds\"]<=TEST_END)]\n",
    "                \n",
    "                #goodness of fit\n",
    "                rmse_E3 = sqrt(mean_squared_error(sum_sales_test[\"QUANTITY\"],test_data))\n",
    "                rmse_TES = sqrt(mean_squared_error(sum_sales_test[\"QUANTITY\"],prediction_oos[\"y_hat\"]))\n",
    "        \n",
    "                sub_category = specific_sales['SUB_CATEGORY'].iloc[0]\n",
    "                quantity = sum_sales_test[\"QUANTITY\"]\n",
    "                e3 = test_data\n",
    "                yhat = prediction_oos[\"y_hat\"].reset_index(drop=True)\n",
    "\n",
    "                performance = {\"CATEGORY\":category, \"SUB_CATEGORY\":sub_category, \"STORE_ID\":store, \"PRODUCT_ID\":product, \\\n",
    "                               \"quantity\":quantity, \"e3\":e3['PREDICTED_UNITS'], \"yhat\":yhat.values, \"rmse_E3\":rmse_E3, \"rmse_TES\":rmse_TES}\n",
    "                performance=pd.DataFrame(performance,index=sum_sales_test.index)\n",
    "                \n",
    "                #Append to the result dataframe\n",
    "                performance_TES = performance_TES.append(performance )\n",
    "                prediction=prediction.set_index('ds')\n",
    "\n",
    "                #Forecast & fitted for fit\n",
    "                plt.figure(figsize=(16,5))\n",
    "                plt.title(\"Engage3 V.S TES:CATEGORY \"+category+',PRODUCT ID'+product )\n",
    "                plt.plot(sum_sales, color='g',marker='.',label = \"Actual\")\n",
    "                plt.plot(E3_predicted_units, color='blue',marker='.',label='Engage3')\n",
    "                plt.plot(prediction, color='r',marker='.',label='TES')\n",
    "                plt.legend()\n",
    "                #plt.show()\n",
    "                \n",
    "                #Split plots based on their performance\n",
    "                if rmse_E3 < rmse_TES:\n",
    "                        plt.savefig(E3_path+'\\cat_'+str(category)+'_st_'+str(store)+'_pro_'+str(product)+'.png')\n",
    "                else:\n",
    "                        plt.savefig(TES_path+'\\cat_'+str(category)+'_st_'+str(store)+'_pro_'+str(product)+'.png')\n",
    "                plt.clf()\n",
    "            except Exception as e:\n",
    "                print(e, \"CATEGORY:\", category,\" STORE:\", store, \" PRODUCT:\", product)\n",
    "                plt.clf()\n",
    "        print(\"CATEGORY:\", category,\" STORE:\", store, ' is done.')\n",
    "        plt.clf()\n",
    "\n",
    "\n"
   ]
  },
  {
   "cell_type": "code",
   "execution_count": 34,
   "metadata": {},
   "outputs": [],
   "source": [
    "performance_TES.to_pickle(\"performance_TES.pkl\")\n",
    "performance_TES.to_csv(\"performance_TES.csv\")"
   ]
  },
  {
   "cell_type": "code",
   "execution_count": 18,
   "metadata": {
    "colab": {},
    "colab_type": "code",
    "id": "YWIdaLSgQcXD",
    "outputId": "87bfcb2c-b78a-45a2-a8bd-6b5eac1367f6"
   },
   "outputs": [
    {
     "data": {
      "text/html": [
       "<div>\n",
       "<style scoped>\n",
       "    .dataframe tbody tr th:only-of-type {\n",
       "        vertical-align: middle;\n",
       "    }\n",
       "\n",
       "    .dataframe tbody tr th {\n",
       "        vertical-align: top;\n",
       "    }\n",
       "\n",
       "    .dataframe thead th {\n",
       "        text-align: right;\n",
       "    }\n",
       "</style>\n",
       "<table border=\"1\" class=\"dataframe\">\n",
       "  <thead>\n",
       "    <tr style=\"text-align: right;\">\n",
       "      <th></th>\n",
       "      <th>CATEGORY</th>\n",
       "      <th>SUB_CATEGORY</th>\n",
       "      <th>STORE_ID</th>\n",
       "      <th>PRODUCT_ID</th>\n",
       "      <th>quantity</th>\n",
       "      <th>e3</th>\n",
       "      <th>yhat</th>\n",
       "      <th>rmse_E3</th>\n",
       "      <th>rmse_TES</th>\n",
       "    </tr>\n",
       "  </thead>\n",
       "  <tbody>\n",
       "    <tr>\n",
       "      <th>2019-09-07</th>\n",
       "      <td>24</td>\n",
       "      <td>346</td>\n",
       "      <td>16</td>\n",
       "      <td>0017</td>\n",
       "      <td>127.0</td>\n",
       "      <td>292.05</td>\n",
       "      <td>194.617003</td>\n",
       "      <td>128.160043</td>\n",
       "      <td>69.367877</td>\n",
       "    </tr>\n",
       "    <tr>\n",
       "      <th>2019-09-14</th>\n",
       "      <td>24</td>\n",
       "      <td>346</td>\n",
       "      <td>16</td>\n",
       "      <td>0017</td>\n",
       "      <td>129.0</td>\n",
       "      <td>355.17</td>\n",
       "      <td>196.065542</td>\n",
       "      <td>128.160043</td>\n",
       "      <td>69.367877</td>\n",
       "    </tr>\n",
       "    <tr>\n",
       "      <th>2019-09-21</th>\n",
       "      <td>24</td>\n",
       "      <td>346</td>\n",
       "      <td>16</td>\n",
       "      <td>0017</td>\n",
       "      <td>171.0</td>\n",
       "      <td>269.57</td>\n",
       "      <td>246.904326</td>\n",
       "      <td>128.160043</td>\n",
       "      <td>69.367877</td>\n",
       "    </tr>\n",
       "    <tr>\n",
       "      <th>2019-09-28</th>\n",
       "      <td>24</td>\n",
       "      <td>346</td>\n",
       "      <td>16</td>\n",
       "      <td>0017</td>\n",
       "      <td>129.0</td>\n",
       "      <td>411.98</td>\n",
       "      <td>196.203289</td>\n",
       "      <td>128.160043</td>\n",
       "      <td>69.367877</td>\n",
       "    </tr>\n",
       "    <tr>\n",
       "      <th>2019-10-05</th>\n",
       "      <td>24</td>\n",
       "      <td>346</td>\n",
       "      <td>16</td>\n",
       "      <td>0017</td>\n",
       "      <td>147.0</td>\n",
       "      <td>372.25</td>\n",
       "      <td>238.625236</td>\n",
       "      <td>128.160043</td>\n",
       "      <td>69.367877</td>\n",
       "    </tr>\n",
       "  </tbody>\n",
       "</table>\n",
       "</div>"
      ],
      "text/plain": [
       "           CATEGORY SUB_CATEGORY STORE_ID PRODUCT_ID  quantity      e3  \\\n",
       "2019-09-07       24          346       16       0017     127.0  292.05   \n",
       "2019-09-14       24          346       16       0017     129.0  355.17   \n",
       "2019-09-21       24          346       16       0017     171.0  269.57   \n",
       "2019-09-28       24          346       16       0017     129.0  411.98   \n",
       "2019-10-05       24          346       16       0017     147.0  372.25   \n",
       "\n",
       "                  yhat     rmse_E3   rmse_TES  \n",
       "2019-09-07  194.617003  128.160043  69.367877  \n",
       "2019-09-14  196.065542  128.160043  69.367877  \n",
       "2019-09-21  246.904326  128.160043  69.367877  \n",
       "2019-09-28  196.203289  128.160043  69.367877  \n",
       "2019-10-05  238.625236  128.160043  69.367877  "
      ]
     },
     "execution_count": 18,
     "metadata": {},
     "output_type": "execute_result"
    }
   ],
   "source": [
    "performance_TES.head()"
   ]
  },
  {
   "cell_type": "markdown",
   "metadata": {
    "colab_type": "text",
    "id": "XpY_r5I1QcXF"
   },
   "source": [
    "# RMSE Evaluation\n",
    "### Product Level"
   ]
  },
  {
   "cell_type": "code",
   "execution_count": 20,
   "metadata": {},
   "outputs": [
    {
     "data": {
      "text/plain": [
       "rmse_E3     123.163295\n",
       "rmse_TES     74.568602\n",
       "dtype: float64"
      ]
     },
     "execution_count": 20,
     "metadata": {},
     "output_type": "execute_result"
    }
   ],
   "source": [
    "performance_product = pd.read_pickle(\"performance_TES.pkl\")\n",
    "np.mean(performance_product [[\"rmse_E3\",\"rmse_TES\"]])"
   ]
  },
  {
   "cell_type": "markdown",
   "metadata": {
    "colab_type": "text",
    "id": "XpY_r5I1QcXF"
   },
   "source": [
    "### Sub-category Level"
   ]
  },
  {
   "cell_type": "code",
   "execution_count": 21,
   "metadata": {
    "colab": {},
    "colab_type": "code",
    "id": "KDs4IOn3QcXG"
   },
   "outputs": [],
   "source": [
    "#Add date column from index\n",
    "performance_TES[\"date\"] = performance_TES.index"
   ]
  },
  {
   "cell_type": "code",
   "execution_count": 25,
   "metadata": {
    "colab": {},
    "colab_type": "code",
    "id": "2lrg6hFoQcXO"
   },
   "outputs": [],
   "source": [
    "performance_subcategory  = pd.DataFrame()\n",
    "\n",
    "for sub_category in performance_TES['SUB_CATEGORY'].unique():\n",
    "    data = performance_TES[performance_TES['SUB_CATEGORY'] == sub_category]\n",
    "    rmse_E3 = sqrt(mean_squared_error(data.groupby('date')['quantity'].sum(), \\\n",
    "                                      data.groupby('date')['e3'].sum()))\n",
    "    rmse_TES = sqrt(mean_squared_error(data.groupby('date')['quantity'].sum(), \\\n",
    "                                           data.groupby('date')['yhat'].sum()))   \n",
    "    rmse = {\"CATEGORY\":sub_category, \"rmse_E3\":rmse_E3, \"rmse_TES\":rmse_TES}\n",
    "    performance_subcategory = performance_subcategory.append(rmse, ignore_index=True)"
   ]
  },
  {
   "cell_type": "code",
   "execution_count": 26,
   "metadata": {
    "colab": {},
    "colab_type": "code",
    "id": "FKOY0wcCQcXS",
    "outputId": "07e08c4c-1d24-4a92-d1f8-ca66cb957c3e"
   },
   "outputs": [
    {
     "data": {
      "text/html": [
       "<div>\n",
       "<style scoped>\n",
       "    .dataframe tbody tr th:only-of-type {\n",
       "        vertical-align: middle;\n",
       "    }\n",
       "\n",
       "    .dataframe tbody tr th {\n",
       "        vertical-align: top;\n",
       "    }\n",
       "\n",
       "    .dataframe thead th {\n",
       "        text-align: right;\n",
       "    }\n",
       "</style>\n",
       "<table border=\"1\" class=\"dataframe\">\n",
       "  <thead>\n",
       "    <tr style=\"text-align: right;\">\n",
       "      <th></th>\n",
       "      <th>CATEGORY</th>\n",
       "      <th>rmse_E3</th>\n",
       "      <th>rmse_TES</th>\n",
       "    </tr>\n",
       "  </thead>\n",
       "  <tbody>\n",
       "    <tr>\n",
       "      <th>0</th>\n",
       "      <td>346</td>\n",
       "      <td>128.160043</td>\n",
       "      <td>69.367877</td>\n",
       "    </tr>\n",
       "    <tr>\n",
       "      <th>1</th>\n",
       "      <td>418</td>\n",
       "      <td>50.321541</td>\n",
       "      <td>48.195366</td>\n",
       "    </tr>\n",
       "    <tr>\n",
       "      <th>2</th>\n",
       "      <td>054</td>\n",
       "      <td>1299.579856</td>\n",
       "      <td>236.732526</td>\n",
       "    </tr>\n",
       "    <tr>\n",
       "      <th>3</th>\n",
       "      <td>349</td>\n",
       "      <td>254.937409</td>\n",
       "      <td>224.714031</td>\n",
       "    </tr>\n",
       "    <tr>\n",
       "      <th>4</th>\n",
       "      <td>345</td>\n",
       "      <td>160.126222</td>\n",
       "      <td>85.738392</td>\n",
       "    </tr>\n",
       "  </tbody>\n",
       "</table>\n",
       "</div>"
      ],
      "text/plain": [
       "  CATEGORY      rmse_E3    rmse_TES\n",
       "0      346   128.160043   69.367877\n",
       "1      418    50.321541   48.195366\n",
       "2      054  1299.579856  236.732526\n",
       "3      349   254.937409  224.714031\n",
       "4      345   160.126222   85.738392"
      ]
     },
     "execution_count": 26,
     "metadata": {},
     "output_type": "execute_result"
    }
   ],
   "source": [
    "performance_subcategory.head()"
   ]
  },
  {
   "cell_type": "code",
   "execution_count": 27,
   "metadata": {
    "colab": {},
    "colab_type": "code",
    "id": "GB8y-i--QcXW",
    "outputId": "26157bf8-1db0-4fa3-9346-cb0bb47f897c"
   },
   "outputs": [
    {
     "data": {
      "text/plain": [
       "rmse_E3     203.123396\n",
       "rmse_TES    112.452914\n",
       "dtype: float64"
      ]
     },
     "execution_count": 27,
     "metadata": {},
     "output_type": "execute_result"
    }
   ],
   "source": [
    "np.mean(performance_subcategory[[\"rmse_E3\",\"rmse_TES\"]])"
   ]
  },
  {
   "cell_type": "markdown",
   "metadata": {
    "colab_type": "text",
    "id": "0UJjwdW2QcXY"
   },
   "source": [
    "### Category Level"
   ]
  },
  {
   "cell_type": "code",
   "execution_count": 28,
   "metadata": {
    "colab": {},
    "colab_type": "code",
    "id": "6y7uiTZ9QcXZ"
   },
   "outputs": [],
   "source": [
    "performance_category  = pd.DataFrame()\n",
    "\n",
    "for category in performance_TES['CATEGORY'].unique():\n",
    "    data = performance_TES[performance_TES['CATEGORY'] == category]\n",
    "    rmse_E3 = sqrt(mean_squared_error(data.groupby('date')['quantity'].sum(), \\\n",
    "                                      data.groupby('date')['e3'].sum()))\n",
    "    rmse_TES = sqrt(mean_squared_error(data.groupby('date')['quantity'].sum(), \\\n",
    "                                           data.groupby('date')['yhat'].sum()))   \n",
    "    rmse = {\"CATEGORY\":category, \"rmse_E3\":rmse_E3, \"rmse_TES\":rmse_TES}\n",
    "    performance_category = performance_category.append(rmse, ignore_index=True)"
   ]
  },
  {
   "cell_type": "code",
   "execution_count": 29,
   "metadata": {
    "colab": {},
    "colab_type": "code",
    "id": "oPC-eB8QQcXe",
    "outputId": "b2752d54-b8bb-4907-fe12-abf8d7ddd4c4"
   },
   "outputs": [
    {
     "data": {
      "text/html": [
       "<div>\n",
       "<style scoped>\n",
       "    .dataframe tbody tr th:only-of-type {\n",
       "        vertical-align: middle;\n",
       "    }\n",
       "\n",
       "    .dataframe tbody tr th {\n",
       "        vertical-align: top;\n",
       "    }\n",
       "\n",
       "    .dataframe thead th {\n",
       "        text-align: right;\n",
       "    }\n",
       "</style>\n",
       "<table border=\"1\" class=\"dataframe\">\n",
       "  <thead>\n",
       "    <tr style=\"text-align: right;\">\n",
       "      <th></th>\n",
       "      <th>CATEGORY</th>\n",
       "      <th>rmse_E3</th>\n",
       "      <th>rmse_TES</th>\n",
       "    </tr>\n",
       "  </thead>\n",
       "  <tbody>\n",
       "    <tr>\n",
       "      <th>0</th>\n",
       "      <td>24</td>\n",
       "      <td>4593.294605</td>\n",
       "      <td>2421.049519</td>\n",
       "    </tr>\n",
       "    <tr>\n",
       "      <th>1</th>\n",
       "      <td>18</td>\n",
       "      <td>676.976644</td>\n",
       "      <td>376.356703</td>\n",
       "    </tr>\n",
       "    <tr>\n",
       "      <th>2</th>\n",
       "      <td>04</td>\n",
       "      <td>785.548417</td>\n",
       "      <td>453.233889</td>\n",
       "    </tr>\n",
       "  </tbody>\n",
       "</table>\n",
       "</div>"
      ],
      "text/plain": [
       "  CATEGORY      rmse_E3     rmse_TES\n",
       "0       24  4593.294605  2421.049519\n",
       "1       18   676.976644   376.356703\n",
       "2       04   785.548417   453.233889"
      ]
     },
     "execution_count": 29,
     "metadata": {},
     "output_type": "execute_result"
    }
   ],
   "source": [
    "performance_category"
   ]
  },
  {
   "cell_type": "code",
   "execution_count": 30,
   "metadata": {
    "colab": {},
    "colab_type": "code",
    "id": "6PYCxLXRQcXh",
    "outputId": "535203b0-fbc9-4698-9ed7-4ff9751a776d"
   },
   "outputs": [
    {
     "data": {
      "text/plain": [
       "rmse_E3     2018.606555\n",
       "rmse_TES    1083.546704\n",
       "dtype: float64"
      ]
     },
     "execution_count": 30,
     "metadata": {},
     "output_type": "execute_result"
    }
   ],
   "source": [
    "np.mean(performance_category[[\"rmse_E3\",\"rmse_TES\"]])"
   ]
  },
  {
   "cell_type": "markdown",
   "metadata": {
    "colab_type": "text",
    "id": "4P22EMzdQcXk"
   },
   "source": [
    "### RMSE Bar Plot"
   ]
  },
  {
   "cell_type": "code",
   "execution_count": 32,
   "metadata": {
    "colab": {},
    "colab_type": "code",
    "id": "ub3i25TkQcXl",
    "outputId": "70479c17-88e1-45a7-9a12-7ebe2f97e652"
   },
   "outputs": [
    {
     "data": {
      "text/plain": [
       "<matplotlib.axes._subplots.AxesSubplot at 0x1cd0b765048>"
      ]
     },
     "execution_count": 32,
     "metadata": {},
     "output_type": "execute_result"
    },
    {
     "data": {
      "image/png": "[encoded data removed]",
      "text/plain": [
       "<Figure size 1080x360 with 1 Axes>"
      ]
     },
     "metadata": {
      "needs_background": "light"
     },
     "output_type": "display_data"
    }
   ],
   "source": [
    "E3_RMSE = {\"Product\":np.mean(performance_product[\"rmse_E3\"]),\\\n",
    "               \"Subcategory\":np.mean(performance_subcategory[\"rmse_E3\"]),\\\n",
    "               \"Category\":np.mean(performance_category[\"rmse_E3\"])}\n",
    "\n",
    "TES_RMSE = {\"Product\":np.mean(performance_product[\"rmse_TES\"]),\\\n",
    "               \"Subcategory\":np.mean(performance_subcategory[\"rmse_TES\"]),\\\n",
    "               \"Category\":np.mean(performance_category[\"rmse_TES\"])}\n",
    "\n",
    "RMSE = pd.DataFrame(columns = [\"Product\", \"Subcategory\", \"Category\"])\n",
    "\n",
    "RMSE = RMSE.append(E3_RMSE, ignore_index=True).append(TES_RMSE, ignore_index=True)\n",
    "\n",
    "RMSE.index = [\"E3\", \"TES\"]\n",
    "\n",
    "RMSE\n",
    "\n",
    "RMSE.plot(kind = \"bar\", figsize = (15,5))"
   ]
  }
 ],
 "metadata": {
  "colab": {
   "name": "Exponential Smoothing Holt's & Winters Model -Cleaned.ipynb",
   "provenance": [],
   "toc_visible": true
  },
  "kernelspec": {
   "display_name": "Python 3",
   "language": "python",
   "name": "python3"
  },
  "language_info": {
   "codemirror_mode": {
    "name": "ipython",
    "version": 3
   },
   "file_extension": ".py",
   "mimetype": "text/x-python",
   "name": "python",
   "nbconvert_exporter": "python",
   "pygments_lexer": "ipython3",
   "version": "3.7.3"
  }
 },
 "nbformat": 4,
 "nbformat_minor": 1
}
