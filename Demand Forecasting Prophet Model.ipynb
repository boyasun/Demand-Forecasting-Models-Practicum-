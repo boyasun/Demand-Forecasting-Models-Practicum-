{
 "cells": [
  {
   "cell_type": "markdown",
   "metadata": {
    "colab_type": "text",
    "id": "i_4sBkq2lGEK",
    "toc": true
   },
   "source": [
    "<h1>Table of Contents<span class=\"tocSkip\"></span></h1>\n",
    "<div class=\"toc\"><ul class=\"toc-item\"><li><span><a href=\"#Connection\" data-toc-modified-id=\"Connection-1\"><span class=\"toc-item-num\">1&nbsp;&nbsp;</span>Connection</a></span></li><li><span><a href=\"#Load-Data\" data-toc-modified-id=\"Load-Data-2\"><span class=\"toc-item-num\">2&nbsp;&nbsp;</span>Load Data</a></span></li><li><span><a href=\"#Split-training/test-dataset-and-select-categories/store\" data-toc-modified-id=\"Split-training/test-dataset-and-select-categories/store-3\"><span class=\"toc-item-num\">3&nbsp;&nbsp;</span>Split training/test dataset and select categories/store</a></span></li><li><span><a href=\"#Model:-PRICE_TO_MINUS_ELASTICITY-as-regressor\" data-toc-modified-id=\"Model:-PRICE_TO_MINUS_ELASTICITY-as-regressor-4\"><span class=\"toc-item-num\">4&nbsp;&nbsp;</span>Model: PRICE_TO_MINUS_ELASTICITY as regressor</a></span></li><li><span><a href=\"#RMSE-Evaluation\" data-toc-modified-id=\"RMSE-Evaluation-5\"><span class=\"toc-item-num\">5&nbsp;&nbsp;</span>RMSE Evaluation</a></span><ul class=\"toc-item\"><li><span><a href=\"#Product-Level\" data-toc-modified-id=\"Product-Level-5.1\"><span class=\"toc-item-num\">5.1&nbsp;&nbsp;</span>Product Level</a></span></li><li><span><a href=\"#Sub-Category-Level\" data-toc-modified-id=\"Sub-Category-Level-5.2\"><span class=\"toc-item-num\">5.2&nbsp;&nbsp;</span>Sub-Category Level</a></span></li><li><span><a href=\"#Category-Level\" data-toc-modified-id=\"Category-Level-5.3\"><span class=\"toc-item-num\">5.3&nbsp;&nbsp;</span>Category Level</a></span></li></ul></li></ul></div>"
   ]
  },
  {
   "cell_type": "code",
   "execution_count": null,
   "metadata": {
    "colab": {},
    "colab_type": "code",
    "id": "Zc8NL79ClGEL"
   },
   "outputs": [],
   "source": [
    "import configparser\n",
    "import snowflake.connector\n",
    "import matplotlib.pyplot as plt\n",
    "import numpy as np\n",
    "import pandas as pd\n",
    "import seaborn as sns\n",
    "from statsmodels.tsa.statespace.sarimax import SARIMAX\n",
    "from statsmodels.graphics.tsaplots import plot_acf,plot_pacf \n",
    "from statsmodels.tsa.seasonal import seasonal_decompose \n",
    "from sklearn.metrics import mean_squared_error\n",
    "from statsmodels.tools.eval_measures import rmse\n",
    "from math import sqrt\n",
    "from statsmodels.tsa.stattools import adfuller\n",
    "from fbprophet import Prophet\n",
    "from fbprophet.diagnostics import cross_validation\n",
    "from tqdm import tqdm\n",
    "from tqdm._tqdm import trange\n",
    "from sklearn.metrics import r2_score\n",
    "import datetime\n",
    "from sklearn.preprocessing import LabelEncoder\n",
    "import glob\n",
    "import os\n",
    "import warnings\n",
    "warnings.filterwarnings(\"ignore\")"
   ]
  },
  {
   "cell_type": "markdown",
   "metadata": {
    "colab_type": "text",
    "id": "He_E2ohMlGET"
   },
   "source": [
    "# Connection"
   ]
  },
  {
   "cell_type": "code",
   "execution_count": null,
   "metadata": {
    "colab": {},
    "colab_type": "code",
    "id": "T0_MUcZLlGET"
   },
   "outputs": [],
   "source": [
    "config_file = 'credentials.conf'"
   ]
  },
  {
   "cell_type": "code",
   "execution_count": null,
   "metadata": {
    "colab": {
     "base_uri": "https://localhost:8080/",
     "height": 34
    },
    "colab_type": "code",
    "executionInfo": {
     "elapsed": 1881,
     "status": "ok",
     "timestamp": 1590788798848,
     "user": {
      "displayName": "Yitao Liu",
      "photoUrl": "",
      "userId": "17221025910342435893"
     },
     "user_tz": 420
    },
    "id": "cccc0sEglGEX",
    "outputId": "6e065f7e-9477-4717-eabb-6f82b38808ef"
   },
   "outputs": [
    {
     "data": {
      "text/plain": [
       "<snowflake.connector.cursor.SnowflakeCursor at 0x23fe2fe10c8>"
      ]
     },
     "execution_count": 3,
     "metadata": {
      "tags": []
     },
     "output_type": "execute_result"
    }
   ],
   "source": [
    "credentials = configparser.ConfigParser()\n",
    "credentials.read(config_file)\n",
    "connection = snowflake.connector.connect(**credentials[''])          \n",
    "cursor = connection.cursor()\n",
    "cursor.execute(\"USE DATABASE {database}\".format(**credentials['']))\n",
    "cursor.execute(\"USE SCHEMA {schema}\".format(**credentials['']))"
   ]
  },
  {
   "cell_type": "markdown",
   "metadata": {
    "colab_type": "text",
    "id": "j4g6_BTQlGEb"
   },
   "source": [
    "# Load Data"
   ]
  },
  {
   "cell_type": "code",
   "execution_count": null,
   "metadata": {
    "colab": {},
    "colab_type": "code",
    "id": "hWrJUVpYlGEb"
   },
   "outputs": [],
   "source": [
    "sales = pd.read_sql('''\n",
    "                       SELECT *\n",
    "                       FROM SALES_HISTORY_05282020\n",
    "                    ''', connection)"
   ]
  },
  {
   "cell_type": "code",
   "execution_count": null,
   "metadata": {
    "colab": {},
    "colab_type": "code",
    "id": "ZqeocHJElGEf"
   },
   "outputs": [],
   "source": [
    "elasticity = pd.read_sql('''\n",
    "                       SELECT *\n",
    "                       FROM ELASTICITY_04212020\n",
    "                    ''', connection)"
   ]
  },
  {
   "cell_type": "code",
   "execution_count": null,
   "metadata": {
    "colab": {
     "base_uri": "https://localhost:8080/",
     "height": 195
    },
    "colab_type": "code",
    "executionInfo": {
     "elapsed": 244,
     "status": "ok",
     "timestamp": 1590788843078,
     "user": {
      "displayName": "Yitao Liu",
      "photoUrl": "",
      "userId": "17221025910342435893"
     },
     "user_tz": 420
    },
    "id": "khGI8-cRlGEl",
    "outputId": "5d4cbaf1-23e5-40b2-b56e-f70906e91f1b"
   },
   "outputs": [
    {
     "data": {
      "text/html": [
       "<div>\n",
       "<style scoped>\n",
       "    .dataframe tbody tr th:only-of-type {\n",
       "        vertical-align: middle;\n",
       "    }\n",
       "\n",
       "    .dataframe tbody tr th {\n",
       "        vertical-align: top;\n",
       "    }\n",
       "\n",
       "    .dataframe thead th {\n",
       "        text-align: right;\n",
       "    }\n",
       "</style>\n",
       "<table border=\"1\" class=\"dataframe\">\n",
       "  <thead>\n",
       "    <tr style=\"text-align: right;\">\n",
       "      <th></th>\n",
       "      <th>PRODUCT_ID</th>\n",
       "      <th>ELASTICITY</th>\n",
       "    </tr>\n",
       "  </thead>\n",
       "  <tbody>\n",
       "    <tr>\n",
       "      <td>0</td>\n",
       "      <td>0001</td>\n",
       "      <td>0.64</td>\n",
       "    </tr>\n",
       "    <tr>\n",
       "      <td>1</td>\n",
       "      <td>0002</td>\n",
       "      <td>0.46</td>\n",
       "    </tr>\n",
       "    <tr>\n",
       "      <td>2</td>\n",
       "      <td>0003</td>\n",
       "      <td>1.54</td>\n",
       "    </tr>\n",
       "    <tr>\n",
       "      <td>3</td>\n",
       "      <td>0004</td>\n",
       "      <td>0.21</td>\n",
       "    </tr>\n",
       "    <tr>\n",
       "      <td>4</td>\n",
       "      <td>0005</td>\n",
       "      <td>0.69</td>\n",
       "    </tr>\n",
       "  </tbody>\n",
       "</table>\n",
       "</div>"
      ],
      "text/plain": [
       "  PRODUCT_ID  ELASTICITY\n",
       "0       0001        0.64\n",
       "1       0002        0.46\n",
       "2       0003        1.54\n",
       "3       0004        0.21\n",
       "4       0005        0.69"
      ]
     },
     "execution_count": 7,
     "metadata": {
      "tags": []
     },
     "output_type": "execute_result"
    }
   ],
   "source": [
    "elasticity.head()"
   ]
  },
  {
   "cell_type": "code",
   "execution_count": null,
   "metadata": {
    "colab": {},
    "colab_type": "code",
    "id": "DW_0EfJplGEo"
   },
   "outputs": [],
   "source": [
    "sales_copy = sales.copy()"
   ]
  },
  {
   "cell_type": "code",
   "execution_count": null,
   "metadata": {
    "colab": {},
    "colab_type": "code",
    "id": "bF2vg0MWlGEq"
   },
   "outputs": [],
   "source": [
    "elasticity_copy = elasticity.copy()"
   ]
  },
  {
   "cell_type": "code",
   "execution_count": null,
   "metadata": {
    "colab": {},
    "colab_type": "code",
    "id": "GROK1Ox_lGEt"
   },
   "outputs": [],
   "source": [
    "sales_copy = pd.merge(sales_copy, elasticity_copy, how='left', on=['PRODUCT_ID'])"
   ]
  },
  {
   "cell_type": "code",
   "execution_count": null,
   "metadata": {
    "colab": {},
    "colab_type": "code",
    "id": "3rnHQg9SlGEx"
   },
   "outputs": [],
   "source": [
    "sales_copy[\"PRICE_TO_MINUS_ELASTICITY\"] = np.power(sales_copy[\"SALES_PRICE\"],(-sales_copy[\"ELASTICITY\"]))"
   ]
  },
  {
   "cell_type": "code",
   "execution_count": null,
   "metadata": {
    "colab": {},
    "colab_type": "code",
    "id": "_7GeyflslGE1"
   },
   "outputs": [],
   "source": [
    "# transform SALES_TYPE_ID to numerical\n",
    "le = LabelEncoder()\n",
    "sales_copy[\"SALES_TYPE_ID\"] = le.fit_transform(sales_copy[\"SALES_TYPE_ID\"])"
   ]
  },
  {
   "cell_type": "markdown",
   "metadata": {
    "colab_type": "text",
    "id": "OEpi44r-mI-Y"
   },
   "source": [
    "# Split training/test dataset and select categories/store"
   ]
  },
  {
   "cell_type": "markdown",
   "metadata": {
    "colab_type": "text",
    "id": "8ql2U_DYmOf1"
   },
   "source": [
    "The test period is from September 07, 2019 to December 28, 2019.  \n",
    "The training period is prior to the test, i.e. September 02, 2017 to August 31, 2019\n",
    "  \n",
    "We select category 24, 18, 04  \n",
    "We select store 16"
   ]
  },
  {
   "cell_type": "code",
   "execution_count": null,
   "metadata": {
    "colab": {},
    "colab_type": "code",
    "id": "knIyyVHZmN8W"
   },
   "outputs": [],
   "source": [
    "TRAIN_START = \"2017-09-02\"\n",
    "TRAIN_END = \"2019-08-31\"\n",
    "TEST_START = \"2019-09-07\"\n",
    "TEST_END = \"2019-12-28\"\n",
    "TEST_END_NEXT_WEEK = \"2020-01-04\"\n",
    "TEST_PERIOD = (pd.to_datetime(TEST_END)-pd.to_datetime(TEST_START))/np.timedelta64(1,'W')+1\n",
    "\n",
    "selected_category = ['24','18','04']\n",
    "selected_store = ['16']"
   ]
  },
  {
   "cell_type": "markdown",
   "metadata": {
    "colab_type": "text",
    "id": "UTnnXRC9lGFL"
   },
   "source": [
    "# Model: PRICE_TO_MINUS_ELASTICITY as regressor"
   ]
  },
  {
   "cell_type": "markdown",
   "metadata": {
    "colab_type": "text",
    "id": "wQw4TiKNQcxs"
   },
   "source": [
    "Parameter: yearly_seasonality=True, interval_width=0.95, n_changepoints = 25, changepoint_prior_scale = 1  \n",
    "Regressor: PRICE_TO_MINUS_ELASTICITY"
   ]
  },
  {
   "cell_type": "code",
   "execution_count": null,
   "metadata": {
    "colab": {},
    "colab_type": "code",
    "id": "PW6iUGcPlGFM"
   },
   "outputs": [],
   "source": [
    "# create result dataframe\n",
    "Prophet_fit_product_level = pd.DataFrame(columns = [\"CATEGORY\", \"SUB_CATEGORY\", \"STORE_ID\", \"PRODUCT_ID\", \"rmse_E3\", \"rmse_prophet\", \"quantity\", \"e3\", \"yhat\"])"
   ]
  },
  {
   "cell_type": "code",
   "execution_count": null,
   "metadata": {
    "colab": {},
    "colab_type": "code",
    "id": "34aPLIuCN-zn"
   },
   "outputs": [],
   "source": [
    "# create the path to store plots and summary csv files\n",
    "path = './Prophet_figs_product_level/'\n",
    "os.mkdir(path)\n",
    "os.mkdir(path+'Prophet_better_plots')\n",
    "os.mkdir(path+'E3_better_plots')"
   ]
  },
  {
   "cell_type": "code",
   "execution_count": null,
   "metadata": {
    "colab": {},
    "colab_type": "code",
    "id": "qJd1DUqmQcxx"
   },
   "outputs": [],
   "source": [
    "def modeling(category, store, subcat, product): \n",
    "    # prepare data\n",
    "    specific_sales = sales_copy[(sales_copy['CATEGORY']==category) & (sales_copy['STORE_ID']==store) &(sales_copy[\"SUB_CATEGORY\"] == subcat) &(sales_copy[\"PRODUCT_ID\"] == product)]\n",
    "    sum_sales = specific_sales.groupby(\"WEEKLY_SALES_DATE\")[\"QUANTITY\", \"PRICE_TO_MINUS_ELASTICITY\"].agg({\"QUANTITY\":'sum', \"PRICE_TO_MINUS_ELASTICITY\":'mean'})\n",
    "    idx = pd.date_range(start = specific_sales[\"WEEKLY_SALES_DATE\"].min(),\n",
    "                        end   = TEST_END_NEXT_WEEK, freq = \"W\").shift(-1, freq = 'D')\n",
    "    E3_predicted_units = specific_sales.groupby(\"WEEKLY_SALES_DATE\")['PREDICTED_UNITS'].sum()\n",
    "    E3_predicted_units.index = E3_predicted_units.index.astype(\"datetime64[ns]\")\n",
    "    sum_sales.index = sum_sales.index.astype(\"datetime64[ns]\")\n",
    "    sum_sales = sum_sales.reindex(idx, fill_value = 0) # fill missing value with zero\n",
    "    sum_sales_train = sum_sales.loc[TRAIN_START:TRAIN_END]\n",
    "    sum_sales_train = sum_sales_train.reset_index().rename(columns = {\"index\":'ds', \"QUANTITY\": \"y\"})\n",
    "    sum_sales_test = sum_sales.loc[TEST_START:TEST_END]\n",
    "\n",
    "    # train model\n",
    "    prophet_model = Prophet(yearly_seasonality=True, interval_width=0.95, n_changepoints = 25, changepoint_prior_scale = 1, weekly_seasonality=False,daily_seasonality=False)\n",
    "    prophet_model.add_regressor('PRICE_TO_MINUS_ELASTICITY')\n",
    "    prophet_model.fit(sum_sales_train)\n",
    "    future = prophet_model.make_future_dataframe(periods = int(TEST_PERIOD), freq = \"7d\")\n",
    "    future[\"PRICE_TO_MINUS_ELASTICITY\"] = sum_sales[\"PRICE_TO_MINUS_ELASTICITY\"].reset_index(drop = True)\n",
    "\n",
    "    # prediction\n",
    "    prediction = prophet_model.predict(future)\n",
    "    prediction_oos = prediction[(prediction[\"ds\"]>=TEST_START)&(prediction[\"ds\"]<=TEST_END)] \n",
    "\n",
    "    # goodness of fit (oos)\n",
    "    rmse_E3 = sqrt(mean_squared_error(sum_sales_test[\"QUANTITY\"],E3_predicted_units[TEST_START:TEST_END]))\n",
    "    rmse_prophet = sqrt(mean_squared_error(sum_sales_test[\"QUANTITY\"],prediction_oos[\"yhat\"]))\n",
    "\n",
    "    # output\n",
    "    quantity = sum_sales_test[\"QUANTITY\"]\n",
    "    e3 = E3_predicted_units[TEST_START:TEST_END]\n",
    "    yhat = prediction_oos[\"yhat\"].values\n",
    "    performance = {\"CATEGORY\":category, \"SUB_CATEGORY\":subcat, \"STORE_ID\":store, \"PRODUCT_ID\":product, \"quantity\":quantity, \"e3\":e3, \"yhat\":yhat, \\\n",
    "                  \"rmse_E3\":rmse_E3, \"rmse_prophet\":rmse_prophet}\n",
    "    performance = pd.DataFrame(performance, index = sum_sales_test.index)\n",
    "    \n",
    "    # plot\n",
    "    prophet_model.plot(prediction)\n",
    "    E3_predicted_units.plot(color = 'r')\n",
    "    plt.plot(sum_sales_test[\"QUANTITY\"], color = 'purple', linestyle = \":\", linewidth = 3)\n",
    "    plt.title(\"Engage3 V.S Prophet: PRODUCT ID: \"+product+\", category: \"+category+\", rmse_E3=\"+str(round(rmse_E3,2))+\", rmse_prophet=\"+str(round(rmse_prophet, 2)) )\n",
    "    if rmse_E3 < rmse_prophet:\n",
    "        plt.savefig(path+'E3_better_plots/cat_'+str(category)+'_st_'+str(store)+'_pro_'+str(product)+'.png', bbox_inches = 'tight')\n",
    "    else:\n",
    "        plt.savefig(path+'Prophet_better_plots/cat_'+str(category)+'_st_'+str(store)+'_pro_'+str(product)+'.png', bbox_inches = 'tight')\n",
    "    plt.clf()\n",
    "    \n",
    "    return performance"
   ]
  },
  {
   "cell_type": "code",
   "execution_count": null,
   "metadata": {
    "colab": {
     "base_uri": "https://localhost:8080/",
     "height": 1000
    },
    "colab_type": "code",
    "executionInfo": {
     "elapsed": 587138,
     "status": "ok",
     "timestamp": 1590789853768,
     "user": {
      "displayName": "Yitao Liu",
      "photoUrl": "",
      "userId": "17221025910342435893"
     },
     "user_tz": 420
    },
    "id": "dsklUE9TN-zr",
    "outputId": "b3a7ea4e-4856-4e43-ca4e-e9118dd3597f"
   },
   "outputs": [
    {
     "name": "stderr",
     "output_type": "stream",
     "text": [
      "\r",
      "  0%|                                                                                            | 0/3 [00:00<?, ?it/s]"
     ]
    },
    {
     "name": "stdout",
     "output_type": "stream",
     "text": [
      "Found input variables with inconsistent numbers of samples: [17, 12] CATEGORY: 24  STORE: 16  PRODUCT: 1139\n",
      "Found input variables with inconsistent numbers of samples: [17, 16] CATEGORY: 24  STORE: 16  PRODUCT: 0017\n",
      "Found input variables with inconsistent numbers of samples: [17, 16] CATEGORY: 24  STORE: 16  PRODUCT: 0035\n",
      "Found input variables with inconsistent numbers of samples: [17, 16] CATEGORY: 24  STORE: 16  PRODUCT: 0951\n"
     ]
    },
    {
     "name": "stderr",
     "output_type": "stream",
     "text": [
      "INFO:fbprophet:n_changepoints greater than number of observations. Using 15.\n"
     ]
    },
    {
     "name": "stdout",
     "output_type": "stream",
     "text": [
      "Dataframe has less than 2 non-NaN rows. CATEGORY: 24  STORE: 16  PRODUCT: 1108\n",
      "Found input variables with inconsistent numbers of samples: [17, 15] CATEGORY: 24  STORE: 16  PRODUCT: 0103\n",
      "Found input variables with inconsistent numbers of samples: [17, 11] CATEGORY: 24  STORE: 16  PRODUCT: 0106\n",
      "Found input variables with inconsistent numbers of samples: [17, 14] CATEGORY: 24  STORE: 16  PRODUCT: 0524\n",
      "CATEGORY:  24  is done.\n"
     ]
    },
    {
     "name": "stderr",
     "output_type": "stream",
     "text": [
      "\r",
      " 33%|███████████████████████████▋                                                       | 1/3 [06:19<12:39, 379.68s/it]"
     ]
    },
    {
     "name": "stdout",
     "output_type": "stream",
     "text": [
      "Found input variables with inconsistent numbers of samples: [17, 15] CATEGORY: 18  STORE: 16  PRODUCT: 0411\n"
     ]
    },
    {
     "name": "stderr",
     "output_type": "stream",
     "text": [
      "INFO:fbprophet:n_changepoints greater than number of observations. Using 22.\n"
     ]
    },
    {
     "name": "stdout",
     "output_type": "stream",
     "text": [
      "Found input variables with inconsistent numbers of samples: [17, 0] CATEGORY: 18  STORE: 16  PRODUCT: 0074\n",
      "CATEGORY:  18  is done.\n"
     ]
    },
    {
     "name": "stderr",
     "output_type": "stream",
     "text": [
      "\r",
      " 67%|███████████████████████████████████████████████████████▎                           | 2/3 [09:41<05:26, 326.44s/it]"
     ]
    },
    {
     "name": "stdout",
     "output_type": "stream",
     "text": [
      "Dataframe has less than 2 non-NaN rows. CATEGORY: 04  STORE: 16  PRODUCT: 0435\n",
      "Found input variables with inconsistent numbers of samples: [17, 0] CATEGORY: 04  STORE: 16  PRODUCT: 0359\n"
     ]
    },
    {
     "name": "stderr",
     "output_type": "stream",
     "text": [
      "INFO:fbprophet:n_changepoints greater than number of observations. Using 18.\n"
     ]
    },
    {
     "name": "stdout",
     "output_type": "stream",
     "text": [
      "Found input variables with inconsistent numbers of samples: [17, 0] CATEGORY: 04  STORE: 16  PRODUCT: 0579\n"
     ]
    },
    {
     "name": "stderr",
     "output_type": "stream",
     "text": [
      "INFO:fbprophet:n_changepoints greater than number of observations. Using 15.\n",
      "INFO:fbprophet:n_changepoints greater than number of observations. Using 15.\n"
     ]
    },
    {
     "name": "stdout",
     "output_type": "stream",
     "text": [
      "CATEGORY:  04  is done.\n"
     ]
    },
    {
     "name": "stderr",
     "output_type": "stream",
     "text": [
      "100%|███████████████████████████████████████████████████████████████████████████████████| 3/3 [15:17<00:00, 305.86s/it]\n"
     ]
    },
    {
     "data": {
      "text/plain": [
       "<Figure size 720x432 with 0 Axes>"
      ]
     },
     "metadata": {
      "tags": []
     },
     "output_type": "display_data"
    },
    {
     "data": {
      "text/plain": [
       "<Figure size 720x432 with 0 Axes>"
      ]
     },
     "metadata": {
      "tags": []
     },
     "output_type": "display_data"
    },
    {
     "data": {
      "text/plain": [
       "<Figure size 720x432 with 0 Axes>"
      ]
     },
     "metadata": {
      "tags": []
     },
     "output_type": "display_data"
    },
    {
     "data": {
      "text/plain": [
       "<Figure size 720x432 with 0 Axes>"
      ]
     },
     "metadata": {
      "tags": []
     },
     "output_type": "display_data"
    },
    {
     "data": {
      "text/plain": [
       "<Figure size 720x432 with 0 Axes>"
      ]
     },
     "metadata": {
      "tags": []
     },
     "output_type": "display_data"
    },
    {
     "data": {
      "text/plain": [
       "<Figure size 720x432 with 0 Axes>"
      ]
     },
     "metadata": {
      "tags": []
     },
     "output_type": "display_data"
    },
    {
     "data": {
      "text/plain": [
       "<Figure size 720x432 with 0 Axes>"
      ]
     },
     "metadata": {
      "tags": []
     },
     "output_type": "display_data"
    },
    {
     "data": {
      "text/plain": [
       "<Figure size 720x432 with 0 Axes>"
      ]
     },
     "metadata": {
      "tags": []
     },
     "output_type": "display_data"
    },
    {
     "data": {
      "text/plain": [
       "<Figure size 720x432 with 0 Axes>"
      ]
     },
     "metadata": {
      "tags": []
     },
     "output_type": "display_data"
    },
    {
     "data": {
      "text/plain": [
       "<Figure size 720x432 with 0 Axes>"
      ]
     },
     "metadata": {
      "tags": []
     },
     "output_type": "display_data"
    },
    {
     "data": {
      "text/plain": [
       "<Figure size 720x432 with 0 Axes>"
      ]
     },
     "metadata": {
      "tags": []
     },
     "output_type": "display_data"
    },
    {
     "data": {
      "text/plain": [
       "<Figure size 720x432 with 0 Axes>"
      ]
     },
     "metadata": {
      "tags": []
     },
     "output_type": "display_data"
    },
    {
     "data": {
      "text/plain": [
       "<Figure size 720x432 with 0 Axes>"
      ]
     },
     "metadata": {
      "tags": []
     },
     "output_type": "display_data"
    },
    {
     "data": {
      "text/plain": [
       "<Figure size 720x432 with 0 Axes>"
      ]
     },
     "metadata": {
      "tags": []
     },
     "output_type": "display_data"
    },
    {
     "data": {
      "text/plain": [
       "<Figure size 720x432 with 0 Axes>"
      ]
     },
     "metadata": {
      "tags": []
     },
     "output_type": "display_data"
    },
    {
     "data": {
      "text/plain": [
       "<Figure size 720x432 with 0 Axes>"
      ]
     },
     "metadata": {
      "tags": []
     },
     "output_type": "display_data"
    },
    {
     "data": {
      "text/plain": [
       "<Figure size 720x432 with 0 Axes>"
      ]
     },
     "metadata": {
      "tags": []
     },
     "output_type": "display_data"
    },
    {
     "data": {
      "text/plain": [
       "<Figure size 720x432 with 0 Axes>"
      ]
     },
     "metadata": {
      "tags": []
     },
     "output_type": "display_data"
    },
    {
     "data": {
      "text/plain": [
       "<Figure size 720x432 with 0 Axes>"
      ]
     },
     "metadata": {
      "tags": []
     },
     "output_type": "display_data"
    },
    {
     "data": {
      "text/plain": [
       "<Figure size 720x432 with 0 Axes>"
      ]
     },
     "metadata": {
      "tags": []
     },
     "output_type": "display_data"
    },
    {
     "data": {
      "text/plain": [
       "<Figure size 720x432 with 0 Axes>"
      ]
     },
     "metadata": {
      "tags": []
     },
     "output_type": "display_data"
    },
    {
     "data": {
      "text/plain": [
       "<Figure size 720x432 with 0 Axes>"
      ]
     },
     "metadata": {
      "tags": []
     },
     "output_type": "display_data"
    },
    {
     "data": {
      "text/plain": [
       "<Figure size 720x432 with 0 Axes>"
      ]
     },
     "metadata": {
      "tags": []
     },
     "output_type": "display_data"
    },
    {
     "data": {
      "text/plain": [
       "<Figure size 720x432 with 0 Axes>"
      ]
     },
     "metadata": {
      "tags": []
     },
     "output_type": "display_data"
    },
    {
     "data": {
      "text/plain": [
       "<Figure size 720x432 with 0 Axes>"
      ]
     },
     "metadata": {
      "tags": []
     },
     "output_type": "display_data"
    },
    {
     "data": {
      "text/plain": [
       "<Figure size 720x432 with 0 Axes>"
      ]
     },
     "metadata": {
      "tags": []
     },
     "output_type": "display_data"
    },
    {
     "data": {
      "text/plain": [
       "<Figure size 720x432 with 0 Axes>"
      ]
     },
     "metadata": {
      "tags": []
     },
     "output_type": "display_data"
    },
    {
     "data": {
      "text/plain": [
       "<Figure size 720x432 with 0 Axes>"
      ]
     },
     "metadata": {
      "tags": []
     },
     "output_type": "display_data"
    },
    {
     "data": {
      "text/plain": [
       "<Figure size 720x432 with 0 Axes>"
      ]
     },
     "metadata": {
      "tags": []
     },
     "output_type": "display_data"
    },
    {
     "data": {
      "text/plain": [
       "<Figure size 720x432 with 0 Axes>"
      ]
     },
     "metadata": {
      "tags": []
     },
     "output_type": "display_data"
    },
    {
     "data": {
      "text/plain": [
       "<Figure size 720x432 with 0 Axes>"
      ]
     },
     "metadata": {
      "tags": []
     },
     "output_type": "display_data"
    },
    {
     "data": {
      "text/plain": [
       "<Figure size 720x432 with 0 Axes>"
      ]
     },
     "metadata": {
      "tags": []
     },
     "output_type": "display_data"
    },
    {
     "data": {
      "text/plain": [
       "<Figure size 720x432 with 0 Axes>"
      ]
     },
     "metadata": {
      "tags": []
     },
     "output_type": "display_data"
    },
    {
     "data": {
      "text/plain": [
       "<Figure size 720x432 with 0 Axes>"
      ]
     },
     "metadata": {
      "tags": []
     },
     "output_type": "display_data"
    },
    {
     "data": {
      "text/plain": [
       "<Figure size 720x432 with 0 Axes>"
      ]
     },
     "metadata": {
      "tags": []
     },
     "output_type": "display_data"
    },
    {
     "data": {
      "text/plain": [
       "<Figure size 720x432 with 0 Axes>"
      ]
     },
     "metadata": {
      "tags": []
     },
     "output_type": "display_data"
    },
    {
     "data": {
      "text/plain": [
       "<Figure size 720x432 with 0 Axes>"
      ]
     },
     "metadata": {
      "tags": []
     },
     "output_type": "display_data"
    },
    {
     "data": {
      "text/plain": [
       "<Figure size 720x432 with 0 Axes>"
      ]
     },
     "metadata": {
      "tags": []
     },
     "output_type": "display_data"
    },
    {
     "data": {
      "text/plain": [
       "<Figure size 720x432 with 0 Axes>"
      ]
     },
     "metadata": {
      "tags": []
     },
     "output_type": "display_data"
    },
    {
     "data": {
      "text/plain": [
       "<Figure size 720x432 with 0 Axes>"
      ]
     },
     "metadata": {
      "tags": []
     },
     "output_type": "display_data"
    },
    {
     "data": {
      "text/plain": [
       "<Figure size 720x432 with 0 Axes>"
      ]
     },
     "metadata": {
      "tags": []
     },
     "output_type": "display_data"
    },
    {
     "data": {
      "text/plain": [
       "<Figure size 720x432 with 0 Axes>"
      ]
     },
     "metadata": {
      "tags": []
     },
     "output_type": "display_data"
    },
    {
     "data": {
      "text/plain": [
       "<Figure size 720x432 with 0 Axes>"
      ]
     },
     "metadata": {
      "tags": []
     },
     "output_type": "display_data"
    },
    {
     "data": {
      "text/plain": [
       "<Figure size 720x432 with 0 Axes>"
      ]
     },
     "metadata": {
      "tags": []
     },
     "output_type": "display_data"
    },
    {
     "data": {
      "text/plain": [
       "<Figure size 720x432 with 0 Axes>"
      ]
     },
     "metadata": {
      "tags": []
     },
     "output_type": "display_data"
    },
    {
     "data": {
      "text/plain": [
       "<Figure size 720x432 with 0 Axes>"
      ]
     },
     "metadata": {
      "tags": []
     },
     "output_type": "display_data"
    },
    {
     "data": {
      "text/plain": [
       "<Figure size 720x432 with 0 Axes>"
      ]
     },
     "metadata": {
      "tags": []
     },
     "output_type": "display_data"
    },
    {
     "data": {
      "text/plain": [
       "<Figure size 720x432 with 0 Axes>"
      ]
     },
     "metadata": {
      "tags": []
     },
     "output_type": "display_data"
    },
    {
     "data": {
      "text/plain": [
       "<Figure size 720x432 with 0 Axes>"
      ]
     },
     "metadata": {
      "tags": []
     },
     "output_type": "display_data"
    },
    {
     "data": {
      "text/plain": [
       "<Figure size 720x432 with 0 Axes>"
      ]
     },
     "metadata": {
      "tags": []
     },
     "output_type": "display_data"
    },
    {
     "data": {
      "text/plain": [
       "<Figure size 720x432 with 0 Axes>"
      ]
     },
     "metadata": {
      "tags": []
     },
     "output_type": "display_data"
    },
    {
     "data": {
      "text/plain": [
       "<Figure size 720x432 with 0 Axes>"
      ]
     },
     "metadata": {
      "tags": []
     },
     "output_type": "display_data"
    },
    {
     "data": {
      "text/plain": [
       "<Figure size 720x432 with 0 Axes>"
      ]
     },
     "metadata": {
      "tags": []
     },
     "output_type": "display_data"
    },
    {
     "data": {
      "text/plain": [
       "<Figure size 720x432 with 0 Axes>"
      ]
     },
     "metadata": {
      "tags": []
     },
     "output_type": "display_data"
    },
    {
     "data": {
      "text/plain": [
       "<Figure size 720x432 with 0 Axes>"
      ]
     },
     "metadata": {
      "tags": []
     },
     "output_type": "display_data"
    },
    {
     "data": {
      "text/plain": [
       "<Figure size 720x432 with 0 Axes>"
      ]
     },
     "metadata": {
      "tags": []
     },
     "output_type": "display_data"
    },
    {
     "data": {
      "text/plain": [
       "<Figure size 720x432 with 0 Axes>"
      ]
     },
     "metadata": {
      "tags": []
     },
     "output_type": "display_data"
    },
    {
     "data": {
      "text/plain": [
       "<Figure size 720x432 with 0 Axes>"
      ]
     },
     "metadata": {
      "tags": []
     },
     "output_type": "display_data"
    },
    {
     "data": {
      "text/plain": [
       "<Figure size 720x432 with 0 Axes>"
      ]
     },
     "metadata": {
      "tags": []
     },
     "output_type": "display_data"
    },
    {
     "data": {
      "text/plain": [
       "<Figure size 720x432 with 0 Axes>"
      ]
     },
     "metadata": {
      "tags": []
     },
     "output_type": "display_data"
    },
    {
     "data": {
      "text/plain": [
       "<Figure size 720x432 with 0 Axes>"
      ]
     },
     "metadata": {
      "tags": []
     },
     "output_type": "display_data"
    },
    {
     "data": {
      "text/plain": [
       "<Figure size 720x432 with 0 Axes>"
      ]
     },
     "metadata": {
      "tags": []
     },
     "output_type": "display_data"
    },
    {
     "data": {
      "text/plain": [
       "<Figure size 720x432 with 0 Axes>"
      ]
     },
     "metadata": {
      "tags": []
     },
     "output_type": "display_data"
    },
    {
     "data": {
      "text/plain": [
       "<Figure size 720x432 with 0 Axes>"
      ]
     },
     "metadata": {
      "tags": []
     },
     "output_type": "display_data"
    },
    {
     "data": {
      "text/plain": [
       "<Figure size 720x432 with 0 Axes>"
      ]
     },
     "metadata": {
      "tags": []
     },
     "output_type": "display_data"
    },
    {
     "data": {
      "text/plain": [
       "<Figure size 720x432 with 0 Axes>"
      ]
     },
     "metadata": {
      "tags": []
     },
     "output_type": "display_data"
    },
    {
     "data": {
      "text/plain": [
       "<Figure size 720x432 with 0 Axes>"
      ]
     },
     "metadata": {
      "tags": []
     },
     "output_type": "display_data"
    },
    {
     "data": {
      "text/plain": [
       "<Figure size 720x432 with 0 Axes>"
      ]
     },
     "metadata": {
      "tags": []
     },
     "output_type": "display_data"
    },
    {
     "data": {
      "text/plain": [
       "<Figure size 720x432 with 0 Axes>"
      ]
     },
     "metadata": {
      "tags": []
     },
     "output_type": "display_data"
    },
    {
     "data": {
      "text/plain": [
       "<Figure size 720x432 with 0 Axes>"
      ]
     },
     "metadata": {
      "tags": []
     },
     "output_type": "display_data"
    },
    {
     "data": {
      "text/plain": [
       "<Figure size 720x432 with 0 Axes>"
      ]
     },
     "metadata": {
      "tags": []
     },
     "output_type": "display_data"
    },
    {
     "data": {
      "text/plain": [
       "<Figure size 720x432 with 0 Axes>"
      ]
     },
     "metadata": {
      "tags": []
     },
     "output_type": "display_data"
    },
    {
     "data": {
      "text/plain": [
       "<Figure size 720x432 with 0 Axes>"
      ]
     },
     "metadata": {
      "tags": []
     },
     "output_type": "display_data"
    },
    {
     "data": {
      "text/plain": [
       "<Figure size 720x432 with 0 Axes>"
      ]
     },
     "metadata": {
      "tags": []
     },
     "output_type": "display_data"
    },
    {
     "data": {
      "text/plain": [
       "<Figure size 720x432 with 0 Axes>"
      ]
     },
     "metadata": {
      "tags": []
     },
     "output_type": "display_data"
    },
    {
     "data": {
      "text/plain": [
       "<Figure size 720x432 with 0 Axes>"
      ]
     },
     "metadata": {
      "tags": []
     },
     "output_type": "display_data"
    },
    {
     "data": {
      "text/plain": [
       "<Figure size 720x432 with 0 Axes>"
      ]
     },
     "metadata": {
      "tags": []
     },
     "output_type": "display_data"
    },
    {
     "data": {
      "text/plain": [
       "<Figure size 720x432 with 0 Axes>"
      ]
     },
     "metadata": {
      "tags": []
     },
     "output_type": "display_data"
    },
    {
     "data": {
      "text/plain": [
       "<Figure size 720x432 with 0 Axes>"
      ]
     },
     "metadata": {
      "tags": []
     },
     "output_type": "display_data"
    },
    {
     "data": {
      "text/plain": [
       "<Figure size 720x432 with 0 Axes>"
      ]
     },
     "metadata": {
      "tags": []
     },
     "output_type": "display_data"
    },
    {
     "data": {
      "text/plain": [
       "<Figure size 720x432 with 0 Axes>"
      ]
     },
     "metadata": {
      "tags": []
     },
     "output_type": "display_data"
    },
    {
     "data": {
      "text/plain": [
       "<Figure size 720x432 with 0 Axes>"
      ]
     },
     "metadata": {
      "tags": []
     },
     "output_type": "display_data"
    },
    {
     "data": {
      "text/plain": [
       "<Figure size 720x432 with 0 Axes>"
      ]
     },
     "metadata": {
      "tags": []
     },
     "output_type": "display_data"
    },
    {
     "data": {
      "text/plain": [
       "<Figure size 720x432 with 0 Axes>"
      ]
     },
     "metadata": {
      "tags": []
     },
     "output_type": "display_data"
    },
    {
     "data": {
      "text/plain": [
       "<Figure size 720x432 with 0 Axes>"
      ]
     },
     "metadata": {
      "tags": []
     },
     "output_type": "display_data"
    },
    {
     "data": {
      "text/plain": [
       "<Figure size 720x432 with 0 Axes>"
      ]
     },
     "metadata": {
      "tags": []
     },
     "output_type": "display_data"
    },
    {
     "data": {
      "text/plain": [
       "<Figure size 720x432 with 0 Axes>"
      ]
     },
     "metadata": {
      "tags": []
     },
     "output_type": "display_data"
    },
    {
     "data": {
      "text/plain": [
       "<Figure size 720x432 with 0 Axes>"
      ]
     },
     "metadata": {
      "tags": []
     },
     "output_type": "display_data"
    },
    {
     "data": {
      "text/plain": [
       "<Figure size 720x432 with 0 Axes>"
      ]
     },
     "metadata": {
      "tags": []
     },
     "output_type": "display_data"
    },
    {
     "data": {
      "text/plain": [
       "<Figure size 720x432 with 0 Axes>"
      ]
     },
     "metadata": {
      "tags": []
     },
     "output_type": "display_data"
    },
    {
     "data": {
      "text/plain": [
       "<Figure size 720x432 with 0 Axes>"
      ]
     },
     "metadata": {
      "tags": []
     },
     "output_type": "display_data"
    },
    {
     "data": {
      "text/plain": [
       "<Figure size 720x432 with 0 Axes>"
      ]
     },
     "metadata": {
      "tags": []
     },
     "output_type": "display_data"
    },
    {
     "data": {
      "text/plain": [
       "<Figure size 720x432 with 0 Axes>"
      ]
     },
     "metadata": {
      "tags": []
     },
     "output_type": "display_data"
    },
    {
     "data": {
      "text/plain": [
       "<Figure size 720x432 with 0 Axes>"
      ]
     },
     "metadata": {
      "tags": []
     },
     "output_type": "display_data"
    },
    {
     "data": {
      "text/plain": [
       "<Figure size 720x432 with 0 Axes>"
      ]
     },
     "metadata": {
      "tags": []
     },
     "output_type": "display_data"
    },
    {
     "data": {
      "text/plain": [
       "<Figure size 720x432 with 0 Axes>"
      ]
     },
     "metadata": {
      "tags": []
     },
     "output_type": "display_data"
    },
    {
     "data": {
      "text/plain": [
       "<Figure size 720x432 with 0 Axes>"
      ]
     },
     "metadata": {
      "tags": []
     },
     "output_type": "display_data"
    },
    {
     "data": {
      "text/plain": [
       "<Figure size 720x432 with 0 Axes>"
      ]
     },
     "metadata": {
      "tags": []
     },
     "output_type": "display_data"
    },
    {
     "data": {
      "text/plain": [
       "<Figure size 720x432 with 0 Axes>"
      ]
     },
     "metadata": {
      "tags": []
     },
     "output_type": "display_data"
    },
    {
     "data": {
      "text/plain": [
       "<Figure size 720x432 with 0 Axes>"
      ]
     },
     "metadata": {
      "tags": []
     },
     "output_type": "display_data"
    },
    {
     "data": {
      "text/plain": [
       "<Figure size 720x432 with 0 Axes>"
      ]
     },
     "metadata": {
      "tags": []
     },
     "output_type": "display_data"
    },
    {
     "data": {
      "text/plain": [
       "<Figure size 720x432 with 0 Axes>"
      ]
     },
     "metadata": {
      "tags": []
     },
     "output_type": "display_data"
    },
    {
     "data": {
      "text/plain": [
       "<Figure size 720x432 with 0 Axes>"
      ]
     },
     "metadata": {
      "tags": []
     },
     "output_type": "display_data"
    },
    {
     "data": {
      "text/plain": [
       "<Figure size 720x432 with 0 Axes>"
      ]
     },
     "metadata": {
      "tags": []
     },
     "output_type": "display_data"
    },
    {
     "data": {
      "text/plain": [
       "<Figure size 720x432 with 0 Axes>"
      ]
     },
     "metadata": {
      "tags": []
     },
     "output_type": "display_data"
    },
    {
     "data": {
      "text/plain": [
       "<Figure size 720x432 with 0 Axes>"
      ]
     },
     "metadata": {
      "tags": []
     },
     "output_type": "display_data"
    },
    {
     "data": {
      "text/plain": [
       "<Figure size 720x432 with 0 Axes>"
      ]
     },
     "metadata": {
      "tags": []
     },
     "output_type": "display_data"
    },
    {
     "data": {
      "text/plain": [
       "<Figure size 720x432 with 0 Axes>"
      ]
     },
     "metadata": {
      "tags": []
     },
     "output_type": "display_data"
    },
    {
     "data": {
      "text/plain": [
       "<Figure size 720x432 with 0 Axes>"
      ]
     },
     "metadata": {
      "tags": []
     },
     "output_type": "display_data"
    },
    {
     "data": {
      "text/plain": [
       "<Figure size 720x432 with 0 Axes>"
      ]
     },
     "metadata": {
      "tags": []
     },
     "output_type": "display_data"
    },
    {
     "data": {
      "text/plain": [
       "<Figure size 720x432 with 0 Axes>"
      ]
     },
     "metadata": {
      "tags": []
     },
     "output_type": "display_data"
    },
    {
     "data": {
      "text/plain": [
       "<Figure size 720x432 with 0 Axes>"
      ]
     },
     "metadata": {
      "tags": []
     },
     "output_type": "display_data"
    },
    {
     "data": {
      "text/plain": [
       "<Figure size 720x432 with 0 Axes>"
      ]
     },
     "metadata": {
      "tags": []
     },
     "output_type": "display_data"
    },
    {
     "data": {
      "text/plain": [
       "<Figure size 720x432 with 0 Axes>"
      ]
     },
     "metadata": {
      "tags": []
     },
     "output_type": "display_data"
    },
    {
     "data": {
      "text/plain": [
       "<Figure size 720x432 with 0 Axes>"
      ]
     },
     "metadata": {
      "tags": []
     },
     "output_type": "display_data"
    },
    {
     "data": {
      "text/plain": [
       "<Figure size 720x432 with 0 Axes>"
      ]
     },
     "metadata": {
      "tags": []
     },
     "output_type": "display_data"
    },
    {
     "data": {
      "text/plain": [
       "<Figure size 720x432 with 0 Axes>"
      ]
     },
     "metadata": {
      "tags": []
     },
     "output_type": "display_data"
    },
    {
     "data": {
      "text/plain": [
       "<Figure size 720x432 with 0 Axes>"
      ]
     },
     "metadata": {
      "tags": []
     },
     "output_type": "display_data"
    },
    {
     "data": {
      "text/plain": [
       "<Figure size 720x432 with 0 Axes>"
      ]
     },
     "metadata": {
      "tags": []
     },
     "output_type": "display_data"
    },
    {
     "data": {
      "text/plain": [
       "<Figure size 720x432 with 0 Axes>"
      ]
     },
     "metadata": {
      "tags": []
     },
     "output_type": "display_data"
    },
    {
     "data": {
      "text/plain": [
       "<Figure size 720x432 with 0 Axes>"
      ]
     },
     "metadata": {
      "tags": []
     },
     "output_type": "display_data"
    },
    {
     "data": {
      "text/plain": [
       "<Figure size 720x432 with 0 Axes>"
      ]
     },
     "metadata": {
      "tags": []
     },
     "output_type": "display_data"
    },
    {
     "data": {
      "text/plain": [
       "<Figure size 720x432 with 0 Axes>"
      ]
     },
     "metadata": {
      "tags": []
     },
     "output_type": "display_data"
    },
    {
     "data": {
      "text/plain": [
       "<Figure size 720x432 with 0 Axes>"
      ]
     },
     "metadata": {
      "tags": []
     },
     "output_type": "display_data"
    },
    {
     "data": {
      "text/plain": [
       "<Figure size 720x432 with 0 Axes>"
      ]
     },
     "metadata": {
      "tags": []
     },
     "output_type": "display_data"
    },
    {
     "data": {
      "text/plain": [
       "<Figure size 720x432 with 0 Axes>"
      ]
     },
     "metadata": {
      "tags": []
     },
     "output_type": "display_data"
    },
    {
     "data": {
      "text/plain": [
       "<Figure size 720x432 with 0 Axes>"
      ]
     },
     "metadata": {
      "tags": []
     },
     "output_type": "display_data"
    },
    {
     "data": {
      "text/plain": [
       "<Figure size 720x432 with 0 Axes>"
      ]
     },
     "metadata": {
      "tags": []
     },
     "output_type": "display_data"
    },
    {
     "data": {
      "text/plain": [
       "<Figure size 720x432 with 0 Axes>"
      ]
     },
     "metadata": {
      "tags": []
     },
     "output_type": "display_data"
    },
    {
     "data": {
      "text/plain": [
       "<Figure size 720x432 with 0 Axes>"
      ]
     },
     "metadata": {
      "tags": []
     },
     "output_type": "display_data"
    },
    {
     "data": {
      "text/plain": [
       "<Figure size 720x432 with 0 Axes>"
      ]
     },
     "metadata": {
      "tags": []
     },
     "output_type": "display_data"
    },
    {
     "data": {
      "text/plain": [
       "<Figure size 720x432 with 0 Axes>"
      ]
     },
     "metadata": {
      "tags": []
     },
     "output_type": "display_data"
    },
    {
     "data": {
      "text/plain": [
       "<Figure size 720x432 with 0 Axes>"
      ]
     },
     "metadata": {
      "tags": []
     },
     "output_type": "display_data"
    },
    {
     "data": {
      "text/plain": [
       "<Figure size 720x432 with 0 Axes>"
      ]
     },
     "metadata": {
      "tags": []
     },
     "output_type": "display_data"
    },
    {
     "data": {
      "text/plain": [
       "<Figure size 720x432 with 0 Axes>"
      ]
     },
     "metadata": {
      "tags": []
     },
     "output_type": "display_data"
    },
    {
     "data": {
      "text/plain": [
       "<Figure size 720x432 with 0 Axes>"
      ]
     },
     "metadata": {
      "tags": []
     },
     "output_type": "display_data"
    },
    {
     "data": {
      "text/plain": [
       "<Figure size 720x432 with 0 Axes>"
      ]
     },
     "metadata": {
      "tags": []
     },
     "output_type": "display_data"
    },
    {
     "data": {
      "text/plain": [
       "<Figure size 720x432 with 0 Axes>"
      ]
     },
     "metadata": {
      "tags": []
     },
     "output_type": "display_data"
    },
    {
     "data": {
      "text/plain": [
       "<Figure size 720x432 with 0 Axes>"
      ]
     },
     "metadata": {
      "tags": []
     },
     "output_type": "display_data"
    },
    {
     "data": {
      "text/plain": [
       "<Figure size 720x432 with 0 Axes>"
      ]
     },
     "metadata": {
      "tags": []
     },
     "output_type": "display_data"
    },
    {
     "data": {
      "text/plain": [
       "<Figure size 720x432 with 0 Axes>"
      ]
     },
     "metadata": {
      "tags": []
     },
     "output_type": "display_data"
    },
    {
     "data": {
      "text/plain": [
       "<Figure size 720x432 with 0 Axes>"
      ]
     },
     "metadata": {
      "tags": []
     },
     "output_type": "display_data"
    },
    {
     "data": {
      "text/plain": [
       "<Figure size 720x432 with 0 Axes>"
      ]
     },
     "metadata": {
      "tags": []
     },
     "output_type": "display_data"
    }
   ],
   "source": [
    "for category in tqdm(selected_category):\n",
    "    for store in selected_store:\n",
    "        selected_subcat = sales_copy[(sales_copy['CATEGORY']==category) & (sales_copy['STORE_ID']==store)]['SUB_CATEGORY'].unique()\n",
    "\n",
    "        for subcat in selected_subcat:\n",
    "            selected_product = sales_copy[(sales_copy['CATEGORY']==category) & (sales_copy['STORE_ID']==store) &  (sales_copy['SUB_CATEGORY']==subcat)]['PRODUCT_ID'].unique()\n",
    "            \n",
    "            for product in selected_product:\n",
    "                try:\n",
    "                    # modeling\n",
    "                    performance = modeling(category, store, subcat, product)\n",
    "                    Prophet_fit_product_level = Prophet_fit_product_level.append(performance)\n",
    "                     \n",
    "                except Exception as e:\n",
    "                    print(e, \"CATEGORY:\", category,\" STORE:\", store, \" PRODUCT:\", product)\n",
    "\n",
    "    print(\"CATEGORY: \", category,\" is done.\")"
   ]
  },
  {
   "cell_type": "code",
   "execution_count": null,
   "metadata": {
    "colab": {},
    "colab_type": "code",
    "id": "IqlOWq3UN-zw"
   },
   "outputs": [],
   "source": [
    "Prophet_fit_product_level.to_pickle(\"Prophet_fit_product_level.pkl\")\n",
    "Prophet_fit_product_level.to_csv(\"Prophet_fit_product_level.csv\")"
   ]
  },
  {
   "cell_type": "markdown",
   "metadata": {
    "colab_type": "text",
    "id": "A7Rt-O_yQcx4"
   },
   "source": [
    "# RMSE Evaluation"
   ]
  },
  {
   "cell_type": "markdown",
   "metadata": {
    "colab_type": "text",
    "id": "YcLrXRmnQcx5"
   },
   "source": [
    "## Product Level"
   ]
  },
  {
   "cell_type": "code",
   "execution_count": null,
   "metadata": {
    "colab": {
     "base_uri": "https://localhost:8080/",
     "height": 67
    },
    "colab_type": "code",
    "executionInfo": {
     "elapsed": 1380,
     "status": "ok",
     "timestamp": 1590799310640,
     "user": {
      "displayName": "Yitao Liu",
      "photoUrl": "",
      "userId": "17221025910342435893"
     },
     "user_tz": 420
    },
    "id": "usgORI_GBwiN",
    "outputId": "57395023-4c8d-49b9-e5fd-52c3faec4ac9"
   },
   "outputs": [
    {
     "data": {
      "text/plain": [
       "rmse_E3         112.426232\n",
       "rmse_prophet    158.803677\n",
       "dtype: float64"
      ]
     },
     "execution_count": 21,
     "metadata": {
      "tags": []
     },
     "output_type": "execute_result"
    }
   ],
   "source": [
    "Prophet_fit_product_level = pd.read_pickle(\"Prophet_fit_product_level.pkl\")\n",
    "np.mean(Prophet_fit_product_level[[\"rmse_E3\",\"rmse_prophet\"]])"
   ]
  },
  {
   "cell_type": "markdown",
   "metadata": {
    "colab_type": "text",
    "id": "HmE4UxtdlGFT"
   },
   "source": [
    "## Sub-Category Level"
   ]
  },
  {
   "cell_type": "code",
   "execution_count": null,
   "metadata": {
    "colab": {},
    "colab_type": "code",
    "id": "0hh1SvprN-z0"
   },
   "outputs": [],
   "source": [
    "model_fit_subcat = pd.read_pickle(\"Prophet_fit_product_level.pkl\")\n",
    "model_fit_subcat[\"date\"] = model_fit_subcat.index"
   ]
  },
  {
   "cell_type": "code",
   "execution_count": null,
   "metadata": {
    "colab": {},
    "colab_type": "code",
    "id": "eKDmdPVwN-0E"
   },
   "outputs": [],
   "source": [
    "model_fit_subcat_2  = pd.DataFrame()\n",
    "\n",
    "for sub_category in model_fit_subcat['SUB_CATEGORY'].unique():\n",
    "    data = model_fit_subcat[model_fit_subcat['SUB_CATEGORY'] == sub_category]\n",
    "    rmse_E3 = sqrt(mean_squared_error(data.groupby('date')['quantity'].sum(), \\\n",
    "                                      data.groupby('date')['e3'].sum()))\n",
    "    rmse_PROPHET = sqrt(mean_squared_error(data.groupby('date')['quantity'].sum(), \\\n",
    "                                           data.groupby('date')['yhat'].sum()))   \n",
    "    rmse = {\"SUB_CATEGORY\":sub_category, \"rmse_E3\":rmse_E3, \"rmse_PROPHET\":rmse_PROPHET}\n",
    "    model_fit_subcat_2 = model_fit_subcat_2.append(rmse, ignore_index=True)"
   ]
  },
  {
   "cell_type": "code",
   "execution_count": null,
   "metadata": {
    "colab": {
     "base_uri": "https://localhost:8080/",
     "height": 195
    },
    "colab_type": "code",
    "executionInfo": {
     "elapsed": 1099,
     "status": "ok",
     "timestamp": 1590790015890,
     "user": {
      "displayName": "Yitao Liu",
      "photoUrl": "",
      "userId": "17221025910342435893"
     },
     "user_tz": 420
    },
    "id": "w01Suq4uN-0J",
    "outputId": "ddad38e1-ba04-4049-a3ba-269df16c93b6"
   },
   "outputs": [
    {
     "data": {
      "text/html": [
       "<div>\n",
       "<style scoped>\n",
       "    .dataframe tbody tr th:only-of-type {\n",
       "        vertical-align: middle;\n",
       "    }\n",
       "\n",
       "    .dataframe tbody tr th {\n",
       "        vertical-align: top;\n",
       "    }\n",
       "\n",
       "    .dataframe thead th {\n",
       "        text-align: right;\n",
       "    }\n",
       "</style>\n",
       "<table border=\"1\" class=\"dataframe\">\n",
       "  <thead>\n",
       "    <tr style=\"text-align: right;\">\n",
       "      <th></th>\n",
       "      <th>SUB_CATEGORY</th>\n",
       "      <th>rmse_E3</th>\n",
       "      <th>rmse_PROPHET</th>\n",
       "    </tr>\n",
       "  </thead>\n",
       "  <tbody>\n",
       "    <tr>\n",
       "      <td>0</td>\n",
       "      <td>192</td>\n",
       "      <td>679.460720</td>\n",
       "      <td>304.437147</td>\n",
       "    </tr>\n",
       "    <tr>\n",
       "      <td>1</td>\n",
       "      <td>191</td>\n",
       "      <td>608.794594</td>\n",
       "      <td>150.062838</td>\n",
       "    </tr>\n",
       "    <tr>\n",
       "      <td>2</td>\n",
       "      <td>098</td>\n",
       "      <td>193.390873</td>\n",
       "      <td>65.305683</td>\n",
       "    </tr>\n",
       "    <tr>\n",
       "      <td>3</td>\n",
       "      <td>403</td>\n",
       "      <td>211.347974</td>\n",
       "      <td>36.994626</td>\n",
       "    </tr>\n",
       "    <tr>\n",
       "      <td>4</td>\n",
       "      <td>351</td>\n",
       "      <td>87.824022</td>\n",
       "      <td>29.542358</td>\n",
       "    </tr>\n",
       "  </tbody>\n",
       "</table>\n",
       "</div>"
      ],
      "text/plain": [
       "  SUB_CATEGORY     rmse_E3  rmse_PROPHET\n",
       "0          192  679.460720    304.437147\n",
       "1          191  608.794594    150.062838\n",
       "2          098  193.390873     65.305683\n",
       "3          403  211.347974     36.994626\n",
       "4          351   87.824022     29.542358"
      ]
     },
     "execution_count": 24,
     "metadata": {
      "tags": []
     },
     "output_type": "execute_result"
    }
   ],
   "source": [
    "model_fit_subcat_2.head()"
   ]
  },
  {
   "cell_type": "code",
   "execution_count": null,
   "metadata": {
    "colab": {
     "base_uri": "https://localhost:8080/",
     "height": 67
    },
    "colab_type": "code",
    "executionInfo": {
     "elapsed": 431,
     "status": "ok",
     "timestamp": 1590790046048,
     "user": {
      "displayName": "Yitao Liu",
      "photoUrl": "",
      "userId": "17221025910342435893"
     },
     "user_tz": 420
    },
    "id": "dMcefXsfN-0N",
    "outputId": "800772fe-5bf0-4316-f3df-123a69fe2301"
   },
   "outputs": [
    {
     "data": {
      "text/plain": [
       "rmse_E3         192.426178\n",
       "rmse_PROPHET    219.644512\n",
       "dtype: float64"
      ]
     },
     "execution_count": 25,
     "metadata": {
      "tags": []
     },
     "output_type": "execute_result"
    }
   ],
   "source": [
    "np.mean(model_fit_subcat_2[[\"rmse_E3\",\"rmse_PROPHET\"]])"
   ]
  },
  {
   "cell_type": "markdown",
   "metadata": {
    "colab_type": "text",
    "id": "fsFCefRGN-0Q"
   },
   "source": [
    "## Category Level"
   ]
  },
  {
   "cell_type": "code",
   "execution_count": null,
   "metadata": {
    "colab": {},
    "colab_type": "code",
    "id": "eViXZIAlN-0R"
   },
   "outputs": [],
   "source": [
    "model_fit_cat = pd.read_pickle(\"Prophet_fit_product_level.pkl\")\n",
    "model_fit_cat[\"date\"] = model_fit_cat.index"
   ]
  },
  {
   "cell_type": "code",
   "execution_count": null,
   "metadata": {
    "colab": {},
    "colab_type": "code",
    "id": "jg1a2V4SN-0e"
   },
   "outputs": [],
   "source": [
    "model_fit_cat_2  = pd.DataFrame()\n",
    "\n",
    "for category in model_fit_cat['CATEGORY'].unique():\n",
    "    data = model_fit_cat[model_fit_cat['CATEGORY'] == category]\n",
    "    rmse_E3 = sqrt(mean_squared_error(data.groupby('date')['quantity'].sum(), \\\n",
    "                                      data.groupby('date')['e3'].sum()))\n",
    "    rmse_PROPHET = sqrt(mean_squared_error(data.groupby('date')['quantity'].sum(), \\\n",
    "                                           data.groupby('date')['yhat'].sum()))   \n",
    "    rmse = {\"CATEGORY\":category, \"rmse_E3\":rmse_E3, \"rmse_PROPHET\":rmse_PROPHET}\n",
    "    model_fit_cat_2 = model_fit_cat_2.append(rmse, ignore_index=True)"
   ]
  },
  {
   "cell_type": "code",
   "execution_count": null,
   "metadata": {
    "colab": {
     "base_uri": "https://localhost:8080/",
     "height": 136
    },
    "colab_type": "code",
    "executionInfo": {
     "elapsed": 319,
     "status": "ok",
     "timestamp": 1590790066326,
     "user": {
      "displayName": "Yitao Liu",
      "photoUrl": "",
      "userId": "17221025910342435893"
     },
     "user_tz": 420
    },
    "id": "Ud33kJ6qN-0g",
    "outputId": "f0f08dd5-218f-4be5-858c-c1e0f3ab9366"
   },
   "outputs": [
    {
     "data": {
      "text/html": [
       "<div>\n",
       "<style scoped>\n",
       "    .dataframe tbody tr th:only-of-type {\n",
       "        vertical-align: middle;\n",
       "    }\n",
       "\n",
       "    .dataframe tbody tr th {\n",
       "        vertical-align: top;\n",
       "    }\n",
       "\n",
       "    .dataframe thead th {\n",
       "        text-align: right;\n",
       "    }\n",
       "</style>\n",
       "<table border=\"1\" class=\"dataframe\">\n",
       "  <thead>\n",
       "    <tr style=\"text-align: right;\">\n",
       "      <th></th>\n",
       "      <th>CATEGORY</th>\n",
       "      <th>rmse_E3</th>\n",
       "      <th>rmse_PROPHET</th>\n",
       "    </tr>\n",
       "  </thead>\n",
       "  <tbody>\n",
       "    <tr>\n",
       "      <td>0</td>\n",
       "      <td>24</td>\n",
       "      <td>4584.738490</td>\n",
       "      <td>5093.257326</td>\n",
       "    </tr>\n",
       "    <tr>\n",
       "      <td>1</td>\n",
       "      <td>18</td>\n",
       "      <td>635.686573</td>\n",
       "      <td>1147.099940</td>\n",
       "    </tr>\n",
       "    <tr>\n",
       "      <td>2</td>\n",
       "      <td>04</td>\n",
       "      <td>686.455630</td>\n",
       "      <td>2812.665857</td>\n",
       "    </tr>\n",
       "  </tbody>\n",
       "</table>\n",
       "</div>"
      ],
      "text/plain": [
       "  CATEGORY      rmse_E3  rmse_PROPHET\n",
       "0       24  4584.738490   5093.257326\n",
       "1       18   635.686573   1147.099940\n",
       "2       04   686.455630   2812.665857"
      ]
     },
     "execution_count": 28,
     "metadata": {
      "tags": []
     },
     "output_type": "execute_result"
    }
   ],
   "source": [
    "model_fit_cat_2.head()"
   ]
  },
  {
   "cell_type": "code",
   "execution_count": null,
   "metadata": {
    "colab": {
     "base_uri": "https://localhost:8080/",
     "height": 67
    },
    "colab_type": "code",
    "executionInfo": {
     "elapsed": 377,
     "status": "ok",
     "timestamp": 1590790689948,
     "user": {
      "displayName": "Yitao Liu",
      "photoUrl": "",
      "userId": "17221025910342435893"
     },
     "user_tz": 420
    },
    "id": "lQ39cfTtN-0j",
    "outputId": "a5b2843b-5ebc-42d1-a112-48b115f40a05"
   },
   "outputs": [
    {
     "data": {
      "text/plain": [
       "rmse_E3         1968.960231\n",
       "rmse_PROPHET    3017.674374\n",
       "dtype: float64"
      ]
     },
     "execution_count": 29,
     "metadata": {
      "tags": []
     },
     "output_type": "execute_result"
    }
   ],
   "source": [
    "np.mean(model_fit_cat_2[[\"rmse_E3\",\"rmse_PROPHET\"]])"
   ]
  }
 ],
 "metadata": {
  "colab": {
   "collapsed_sections": [
    "1E3qv7pVN-z3",
    "3QyQTgzKN-0D",
    "mXBKd18QN-0T",
    "4y2x84EuN-0d"
   ],
   "name": "Prophet Model.ipynb",
   "provenance": []
  },
  "kernelspec": {
   "display_name": "Python 3",
   "language": "python",
   "name": "python3"
  },
  "language_info": {
   "codemirror_mode": {
    "name": "ipython",
    "version": 3
   },
   "file_extension": ".py",
   "mimetype": "text/x-python",
   "name": "python",
   "nbconvert_exporter": "python",
   "pygments_lexer": "ipython3",
   "version": "3.7.6"
  },
  "toc": {
   "base_numbering": 1,
   "nav_menu": {},
   "number_sections": true,
   "sideBar": true,
   "skip_h1_title": false,
   "title_cell": "Table of Contents",
   "title_sidebar": "Contents",
   "toc_cell": true,
   "toc_position": {},
   "toc_section_display": true,
   "toc_window_display": true
  },
  "varInspector": {
   "cols": {
    "lenName": 16,
    "lenType": 16,
    "lenVar": 40
   },
   "kernels_config": {
    "python": {
     "delete_cmd_postfix": "",
     "delete_cmd_prefix": "del ",
     "library": "var_list.py",
     "varRefreshCmd": "print(var_dic_list())"
    },
    "r": {
     "delete_cmd_postfix": ") ",
     "delete_cmd_prefix": "rm(",
     "library": "var_list.r",
     "varRefreshCmd": "cat(var_dic_list()) "
    }
   },
   "types_to_exclude": [
    "module",
    "function",
    "builtin_function_or_method",
    "instance",
    "_Feature"
   ],
   "window_display": false
  }
 },
 "nbformat": 4,
 "nbformat_minor": 1
}
